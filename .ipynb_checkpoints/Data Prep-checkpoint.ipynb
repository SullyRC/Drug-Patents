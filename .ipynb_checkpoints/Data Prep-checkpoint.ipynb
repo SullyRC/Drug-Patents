{
 "cells": [
  {
   "cell_type": "markdown",
   "id": "9e542263",
   "metadata": {},
   "source": [
    "# Data Prep for Evergreen Patent Identification\n",
    "\n",
    "## Script purpose\n",
    "In order to build a evergreen patent flagger, multiple datasets from different sources are to be utilized. Doing so allows a model to capture more information, but creates difficulty when working with the data. Not all of the data can be easily linked together. The purpose of this script is to properly merge all the datasets such that they correctly link to each other. Additionally, the merged data must be properly handled such that all dates are lined up. For example, the I-MAK patent database will be utilized for it's meta data and link to the proper patent. The issue is that it is more up to date than the UC Hasting's Evergreen Drug Patent database, which only contains information from **2005 to 2018**. UC Hasting's database also only consider's drugs from the FDA's **Orange Book** while I-MAK's database contains information from both the **Orange and Purple Book**. These discrepencies will be fixed in this file. The datasets being cleaned and merged in this file are:\n",
    "- I-MAK's Patent Database\n",
    "- UC Hasting's Evergreen Drug Patent Database\n",
    "- "
   ]
  },
  {
   "cell_type": "code",
   "execution_count": null,
   "id": "0b9ccf5d",
   "metadata": {},
   "outputs": [],
   "source": []
  }
 ],
 "metadata": {
  "kernelspec": {
   "display_name": "Python 3 (ipykernel)",
   "language": "python",
   "name": "python3"
  },
  "language_info": {
   "codemirror_mode": {
    "name": "ipython",
    "version": 3
   },
   "file_extension": ".py",
   "mimetype": "text/x-python",
   "name": "python",
   "nbconvert_exporter": "python",
   "pygments_lexer": "ipython3",
   "version": "3.9.12"
  }
 },
 "nbformat": 4,
 "nbformat_minor": 5
}
