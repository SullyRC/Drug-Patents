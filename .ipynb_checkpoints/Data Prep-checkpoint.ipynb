{
 "cells": [
  {
   "cell_type": "markdown",
   "id": "f229babc",
   "metadata": {},
   "source": [
    "# Data Prep for Evergreen Patent Identification\n",
    "\n",
    "## Script purpose\n",
    "In order to build a evergreen patent flagger, multiple datasets from different sources are to be utilized. Doing so allows a model to capture more information, but creates difficulty when working with the data. Not all of the data can be easily linked together. The purpose of this script is to properly merge all the datasets such that they correctly link to each other. Additionally, the merged data must be properly handled such that all dates are lined up. For example, the I-MAK patent database will be utilized for it's meta data and link to the proper patent. The issue is that it is more up to date than the UC Hasting's Evergreen Drug Patent database, which only contains information from **2005 to 2018**. UC Hasting's database also only consider's drugs from the FDA's **Orange Book** while I-MAK's database contains information from both the **Orange and Purple Book**. \n",
    "\n",
    "The datasets being cleaned and merged in this file are:\n",
    "- I-MAK's Patent database\n",
    "- UC Hasting's Evergreen Drug Patent database\n",
    "- The Department of Veteran Affairs' contract pricing information\n",
    "- Filings from the European Patent Office and Japanese Patent Office\n",
    "- FDA Orange book\n",
    "\n",
    "_Note that the Orange book is being utilize as a link between different datasets_\n",
    "\n",
    "## Code"
   ]
  },
  {
   "cell_type": "code",
   "execution_count": 1,
   "id": "530a6a90",
   "metadata": {},
   "outputs": [],
   "source": [
    "import pandas as pd\n",
    "import numpy as np"
   ]
  },
  {
   "cell_type": "markdown",
   "id": "2535d06e",
   "metadata": {},
   "source": [
    "### Linking Evergreen Drug Database to I-MAK Patent Database\n",
    "The first step in the data prep process will be linking the evergreen drug database to the I-MAK database. During this process, the NDA number from UC Hasting's will be isolated for use. Since we only care of a drug"
   ]
  },
  {
   "cell_type": "code",
   "execution_count": null,
   "id": "e33b0f89",
   "metadata": {},
   "outputs": [],
   "source": []
  }
 ],
 "metadata": {
  "kernelspec": {
   "display_name": "Python 3 (ipykernel)",
   "language": "python",
   "name": "python3"
  },
  "language_info": {
   "codemirror_mode": {
    "name": "ipython",
    "version": 3
   },
   "file_extension": ".py",
   "mimetype": "text/x-python",
   "name": "python",
   "nbconvert_exporter": "python",
   "pygments_lexer": "ipython3",
   "version": "3.9.12"
  }
 },
 "nbformat": 4,
 "nbformat_minor": 5
}
