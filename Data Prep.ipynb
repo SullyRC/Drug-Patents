{
 "cells": [
  {
   "cell_type": "markdown",
   "id": "b7d9114b",
   "metadata": {},
   "source": [
    "# Data Prep\n",
    "In order to get start the EDA process, our data sources must be merged and cleaned. This file is for that purpose. Multiple data sources will be used to merge the data properly.\n",
    "- Pricing Data from the VA. (https://www.va.gov/oalc/foia/library.asp#two)\n",
    "- Historical Consumer Price index. (https://www.usinflationcalculator.com/inflation/consumer-price-index-and-annual-percent-changes-from-1913-to-2008/)\n",
    "- Evergreen Patent Database from UC Hastings. (https://sites.uchastings.edu/evergreensearch/archive/)\n",
    "- FDA approved drugs list.(https://www.fda.gov/drugs/development-approval-process-drugs/national-drug-code-database-background-information)\n",
    "\n",
    "**Note** VA pricing data has already been pre-cleaned for use by a different file."
   ]
  },
  {
   "cell_type": "code",
   "execution_count": 1,
   "id": "aca40bf5",
   "metadata": {},
   "outputs": [],
   "source": [
    "import pandas as pd\n",
    "import numpy as np\n",
    "import matplotlib.pyplot as plt\n",
    "import seaborn as sns"
   ]
  },
  {
   "cell_type": "markdown",
   "id": "c5f1be7d",
   "metadata": {},
   "source": [
    "## Importing Data"
   ]
  },
  {
   "cell_type": "code",
   "execution_count": 2,
   "id": "e33b0f89",
   "metadata": {},
   "outputs": [
    {
     "name": "stderr",
     "output_type": "stream",
     "text": [
      "C:\\Users\\sulli\\AppData\\Local\\Temp\\ipykernel_22832\\2086762004.py:11: DtypeWarning: Columns (6,13) have mixed types. Specify dtype option on import or set low_memory=False.\n",
      "  Pricing = pd.read_csv(\"C:\\\\Users\\\\sulli\\\\Documents\\\\Code\\\\Studio 4\\\\Drug Patents\\\\historicvapricing.csv\")\n"
     ]
    }
   ],
   "source": [
    "#Dataframe for Evergreen Database\n",
    "Evgn = pd.read_csv(\"EvergreenDatasetRaw_Dataset_2005-2018_v02.csv\")\n",
    "#Dataframe for individual drugs from Orange Book\n",
    "#Product = pd.read_csv('products.txt',delimiter=\"~\")\n",
    "#Dataframe for individual patents from Orange Book\n",
    "#Patent = pd.read_csv(\"patent.txt\",delimiter=\"~\")\n",
    "#Dataframe for linking NDA (New Drug Application Number) to NDC (National Drug Code)\n",
    "Link = pd.read_csv(\"20220906_product.csv\")\n",
    "#Dataframe for Historical VA Pricing. Please download the csv from the following link and change the dir you need.\n",
    "#https://drive.google.com/uc?id=1ZWlyvtMNjOrOtFlFotvnPDoKeaBD0voe\n",
    "Pricing = pd.read_csv(\"C:\\\\Users\\\\sulli\\\\Documents\\\\Code\\\\Studio 4\\\\Drug Patents\\\\historicvapricing.csv\")\n",
    "#Dataframe for CPI. Needed to adjust historical pricing for inflation.\n",
    "CPI = pd.read_csv(\"CPI.csv\")"
   ]
  },
  {
   "cell_type": "markdown",
   "id": "083f8e0b",
   "metadata": {},
   "source": [
    "## Subsetting Historical Pricing\n",
    "In order to properly link the VA pricing to the Evergreen patent database, the FDA approved drugs list will be needed to link the NDA to the NDC. The following code block subsets the \"Link\" dataframe such that only the approved drugs found in the Evergreen database exist."
   ]
  },
  {
   "cell_type": "code",
   "execution_count": 3,
   "id": "cf10994b",
   "metadata": {},
   "outputs": [],
   "source": [
    "Link = Link[['applicationnumber','productndc']]\n",
    "Link = Link[~(Link['applicationnumber'].isna())]\n",
    "Link = Link[Link['applicationnumber'].str.contains('NDA')]\n",
    "Link['applicationnumber'] = Link['applicationnumber'].apply(lambda x: (x.replace('ANDA','')))\n",
    "Link['applicationnumber'] = Link['applicationnumber'].apply(lambda x: int(x.replace('NDA','')))\n",
    "Link = Link[Link['applicationnumber'].isin(Evgn['NDA #'])]"
   ]
  },
  {
   "cell_type": "markdown",
   "id": "76a80dd0",
   "metadata": {},
   "source": [
    "In order to properly link the NDC code in the the \"Link\" dataframe to that of the historical pricing, the NDC code needs to be clean. The following code block does this."
   ]
  },
  {
   "cell_type": "code",
   "execution_count": 4,
   "id": "cc946615",
   "metadata": {},
   "outputs": [],
   "source": [
    "Pricing[['NDC1','NDC2','NDC3']] =  Pricing.NDCWithDashes.str.split('-',expand=True)\n",
    "Pricing=Pricing.drop(columns=['NDC3'])\n",
    "Pricing['CleanNDC'] = Pricing['NDC1'] + '-' + Pricing['NDC2']"
   ]
  },
  {
   "cell_type": "markdown",
   "id": "254f6b8f",
   "metadata": {},
   "source": [
    "Finally the \"Pricing\" dataframe is subset using the NDC and merged with the \"Link\" dataframe using an inner join."
   ]
  },
  {
   "cell_type": "code",
   "execution_count": 5,
   "id": "0116a74a",
   "metadata": {},
   "outputs": [],
   "source": [
    "Pricing = Pricing[Pricing['CleanNDC'].isin(Link['productndc'])]\n",
    "Pricing = Pricing.merge(Link, how='inner',left_on='CleanNDC',right_on='productndc')"
   ]
  },
  {
   "cell_type": "markdown",
   "id": "525cbb24",
   "metadata": {},
   "source": [
    "The \"Link\" dataframe will be deleted to save memory."
   ]
  },
  {
   "cell_type": "code",
   "execution_count": 6,
   "id": "97a48f48",
   "metadata": {},
   "outputs": [],
   "source": [
    "del(Link)"
   ]
  },
  {
   "cell_type": "markdown",
   "id": "72338ca2",
   "metadata": {},
   "source": [
    "## Adjusting Historical Pricing for Inflation\n",
    "Because we are working with historical prices over time, the data will neeed to be adjusted for inflation. The CPI will be used to account for this. First the month and year of the price start date will need to be retrieved."
   ]
  },
  {
   "cell_type": "code",
   "execution_count": 7,
   "id": "693416d9",
   "metadata": {},
   "outputs": [],
   "source": [
    "Pricing['PriceStartDate'] = pd.to_datetime(Pricing['PriceStartDate'])\n",
    "Pricing['StartMonth'] = Pricing['PriceStartDate'].dt.month\n",
    "Pricing['StartYear'] = Pricing['PriceStartDate'].dt.year "
   ]
  },
  {
   "cell_type": "markdown",
   "id": "b260a4bc",
   "metadata": {},
   "source": [
    "Next the CPI dataframe will need to be change into the long form in order to create a proper merge."
   ]
  },
  {
   "cell_type": "code",
   "execution_count": 8,
   "id": "fc0221dc",
   "metadata": {},
   "outputs": [],
   "source": [
    "CPI_numbers = []\n",
    "CPI_month = []\n",
    "CPI_year = []\n",
    "month_year = {1:'Jan',2:'Feb',3:'Mar',4:'Apr',\n",
    "                 5:'May',6:'June',7:'July',8:'Aug',\n",
    "                 9:'Sep',10:'Oct',11:'Nov',12:'Dec'}\n",
    "for year in [2005,2006,2007,2008,2009,2010,2011,\n",
    "            2012,2013,2014,2015,2016,2017,2018]:\n",
    "    for month in [1,2,3,4,5,6,7,8,9,10,11,12]:\n",
    "        column = month_year[month]\n",
    "        CPI_year.append(year)\n",
    "        CPI_month.append(month)\n",
    "        CPI_numbers.append(float(CPI[CPI['Year']==year][column]))\n",
    "\n",
    "CPI = pd.DataFrame(data=zip(CPI_numbers,CPI_month,CPI_year),\n",
    "                  columns=['CPI','Month','Year'])"
   ]
  },
  {
   "cell_type": "markdown",
   "id": "0a5a8d37",
   "metadata": {},
   "source": [
    "Pricing will then be merged with the CPI. "
   ]
  },
  {
   "cell_type": "code",
   "execution_count": 9,
   "id": "facd8a4b",
   "metadata": {},
   "outputs": [],
   "source": [
    "Pricing = Pricing.merge(CPI, how='inner',left_on=['StartMonth','StartYear'],\n",
    "                       right_on=['Month','Year'])"
   ]
  },
  {
   "cell_type": "markdown",
   "id": "ad556a46",
   "metadata": {},
   "source": [
    "Finally, a new column called \"InflationAdjustedPrice\" will be created."
   ]
  },
  {
   "cell_type": "code",
   "execution_count": 10,
   "id": "0e0849b1",
   "metadata": {},
   "outputs": [],
   "source": [
    "Pricing['Price'] = pd.to_numeric(Pricing['Price'])\n",
    "Pricing['InflationAdjustedPrice'] = (Pricing['Price'])/(Pricing['CPI']) * 100"
   ]
  },
  {
   "cell_type": "markdown",
   "id": "c54368e8",
   "metadata": {},
   "source": [
    "## Reducing Number of Columns\n",
    "Many columns that have been engineered are now useless and serve as fluff. They will be dropped."
   ]
  },
  {
   "cell_type": "code",
   "execution_count": 11,
   "id": "358b321d",
   "metadata": {},
   "outputs": [],
   "source": [
    "Pricing = Pricing.drop(columns=['Unnamed: 0','NDC1','NDC2','NDCWithDashes',\n",
    "                               'Month','Year','DateKey'])"
   ]
  },
  {
   "cell_type": "code",
   "execution_count": 12,
   "id": "b1db4a06",
   "metadata": {},
   "outputs": [
    {
     "name": "stdout",
     "output_type": "stream",
     "text": [
      "<class 'pandas.core.frame.DataFrame'>\n",
      "Int64Index: 65930 entries, 0 to 65929\n",
      "Data columns (total 22 columns):\n",
      " #   Column                  Non-Null Count  Dtype         \n",
      "---  ------                  --------------  -----         \n",
      " 0   ContractNumber          65930 non-null  object        \n",
      " 1   VendorName              65930 non-null  object        \n",
      " 2   ContractStartDate       65930 non-null  object        \n",
      " 3   ContractStopDate        65930 non-null  object        \n",
      " 4   SubItemIdentifier       59196 non-null  object        \n",
      " 5   PackageDescription      65930 non-null  object        \n",
      " 6   Generic                 65930 non-null  object        \n",
      " 7   TradeName               65930 non-null  object        \n",
      " 8   VAClass                 65930 non-null  object        \n",
      " 9   Covered                 65930 non-null  object        \n",
      " 10  PrimeVendor             65930 non-null  object        \n",
      " 11  Price                   65930 non-null  float64       \n",
      " 12  PriceStartDate          65930 non-null  datetime64[ns]\n",
      " 13  PriceStopDate           65930 non-null  object        \n",
      " 14  PriceType               65930 non-null  object        \n",
      " 15  CleanNDC                65930 non-null  object        \n",
      " 16  applicationnumber       65930 non-null  int64         \n",
      " 17  productndc              65930 non-null  object        \n",
      " 18  StartMonth              65930 non-null  int64         \n",
      " 19  StartYear               65930 non-null  int64         \n",
      " 20  CPI                     65930 non-null  float64       \n",
      " 21  InflationAdjustedPrice  65930 non-null  float64       \n",
      "dtypes: datetime64[ns](1), float64(3), int64(3), object(15)\n",
      "memory usage: 11.6+ MB\n"
     ]
    }
   ],
   "source": [
    "Pricing.info()"
   ]
  },
  {
   "cell_type": "markdown",
   "id": "5d90a70f",
   "metadata": {},
   "source": [
    "## Adding Features to Evergreen Dataframe\n",
    "There are some features that would be beneficial inclusions in the Evergreen Dataframe. Particularly, including the previous number of patents for a given drug would be a good start. First, the \"Date Added\" column will have to be change for any drug listed as \"pre-2005\". For ease of use, they will be entered as \"1/1/05\"."
   ]
  },
  {
   "cell_type": "code",
   "execution_count": 13,
   "id": "f834b46a",
   "metadata": {},
   "outputs": [
    {
     "data": {
      "text/html": [
       "<div>\n",
       "<style scoped>\n",
       "    .dataframe tbody tr th:only-of-type {\n",
       "        vertical-align: middle;\n",
       "    }\n",
       "\n",
       "    .dataframe tbody tr th {\n",
       "        vertical-align: top;\n",
       "    }\n",
       "\n",
       "    .dataframe thead th {\n",
       "        text-align: right;\n",
       "    }\n",
       "</style>\n",
       "<table border=\"1\" class=\"dataframe\">\n",
       "  <thead>\n",
       "    <tr style=\"text-align: right;\">\n",
       "      <th></th>\n",
       "      <th>Active Ingredient</th>\n",
       "      <th>NDA #</th>\n",
       "      <th>Product Name</th>\n",
       "      <th>Company</th>\n",
       "      <th>Approval Date</th>\n",
       "      <th>P or E</th>\n",
       "      <th>Date Added</th>\n",
       "      <th>Patent Number</th>\n",
       "      <th>Expiration Date</th>\n",
       "      <th>Codes</th>\n",
       "      <th>Strengths</th>\n",
       "      <th>Delist Request</th>\n",
       "      <th>Orig</th>\n",
       "      <th>Analysis</th>\n",
       "      <th>Added strength</th>\n",
       "      <th># added strengths</th>\n",
       "      <th>Applied to UC</th>\n",
       "      <th>2nd add</th>\n",
       "      <th>Comments</th>\n",
       "    </tr>\n",
       "  </thead>\n",
       "  <tbody>\n",
       "    <tr>\n",
       "      <th>0</th>\n",
       "      <td>Abacavir Sulfate</td>\n",
       "      <td>20977</td>\n",
       "      <td>Ziagen*</td>\n",
       "      <td>VIIV HLTHCARE</td>\n",
       "      <td>12/17/98</td>\n",
       "      <td>P</td>\n",
       "      <td>pre-2005</td>\n",
       "      <td>5034394</td>\n",
       "      <td>12/18/11</td>\n",
       "      <td>NaN</td>\n",
       "      <td>1</td>\n",
       "      <td>NaN</td>\n",
       "      <td>NaN</td>\n",
       "      <td>Pre-2005</td>\n",
       "      <td>NaN</td>\n",
       "      <td>NaN</td>\n",
       "      <td>NaN</td>\n",
       "      <td>NaN</td>\n",
       "      <td>10/26/72</td>\n",
       "    </tr>\n",
       "    <tr>\n",
       "      <th>1</th>\n",
       "      <td>Abacavir Sulfate</td>\n",
       "      <td>20977</td>\n",
       "      <td>Ziagen*</td>\n",
       "      <td>VIIV HLTHCARE</td>\n",
       "      <td>NaN</td>\n",
       "      <td>P</td>\n",
       "      <td>pre-2005</td>\n",
       "      <td>5089500</td>\n",
       "      <td>6/26/09</td>\n",
       "      <td>U-248</td>\n",
       "      <td>1</td>\n",
       "      <td>NaN</td>\n",
       "      <td>NaN</td>\n",
       "      <td>Pre-2005</td>\n",
       "      <td>NaN</td>\n",
       "      <td>NaN</td>\n",
       "      <td>NaN</td>\n",
       "      <td>NaN</td>\n",
       "      <td>NaN</td>\n",
       "    </tr>\n",
       "    <tr>\n",
       "      <th>2</th>\n",
       "      <td>Abacavir Sulfate</td>\n",
       "      <td>20977</td>\n",
       "      <td>Ziagen*</td>\n",
       "      <td>VIIV HLTHCARE</td>\n",
       "      <td>NaN</td>\n",
       "      <td>P</td>\n",
       "      <td>pre-2005</td>\n",
       "      <td>6294540</td>\n",
       "      <td>5/14/18</td>\n",
       "      <td>U-65</td>\n",
       "      <td>1</td>\n",
       "      <td>NaN</td>\n",
       "      <td>NaN</td>\n",
       "      <td>Pre-2005</td>\n",
       "      <td>NaN</td>\n",
       "      <td>NaN</td>\n",
       "      <td>NaN</td>\n",
       "      <td>NaN</td>\n",
       "      <td>NaN</td>\n",
       "    </tr>\n",
       "    <tr>\n",
       "      <th>3</th>\n",
       "      <td>Abacavir Sulfate</td>\n",
       "      <td>20977</td>\n",
       "      <td>Ziagen*</td>\n",
       "      <td>VIIV HLTHCARE</td>\n",
       "      <td>NaN</td>\n",
       "      <td>P</td>\n",
       "      <td>pre-2005</td>\n",
       "      <td>5034394*PED</td>\n",
       "      <td>6/18/12</td>\n",
       "      <td>NaN</td>\n",
       "      <td>1</td>\n",
       "      <td>NaN</td>\n",
       "      <td>NaN</td>\n",
       "      <td>Pre-2005</td>\n",
       "      <td>NaN</td>\n",
       "      <td>NaN</td>\n",
       "      <td>NaN</td>\n",
       "      <td>NaN</td>\n",
       "      <td>12/22/15</td>\n",
       "    </tr>\n",
       "    <tr>\n",
       "      <th>4</th>\n",
       "      <td>Abacavir Sulfate</td>\n",
       "      <td>20977</td>\n",
       "      <td>Ziagen*</td>\n",
       "      <td>VIIV HLTHCARE</td>\n",
       "      <td>NaN</td>\n",
       "      <td>P</td>\n",
       "      <td>pre-2005</td>\n",
       "      <td>5089500*PED</td>\n",
       "      <td>12/26/09</td>\n",
       "      <td>NaN</td>\n",
       "      <td>1</td>\n",
       "      <td>NaN</td>\n",
       "      <td>NaN</td>\n",
       "      <td>Pre-2005</td>\n",
       "      <td>NaN</td>\n",
       "      <td>NaN</td>\n",
       "      <td>NaN</td>\n",
       "      <td>NaN</td>\n",
       "      <td>NaN</td>\n",
       "    </tr>\n",
       "    <tr>\n",
       "      <th>...</th>\n",
       "      <td>...</td>\n",
       "      <td>...</td>\n",
       "      <td>...</td>\n",
       "      <td>...</td>\n",
       "      <td>...</td>\n",
       "      <td>...</td>\n",
       "      <td>...</td>\n",
       "      <td>...</td>\n",
       "      <td>...</td>\n",
       "      <td>...</td>\n",
       "      <td>...</td>\n",
       "      <td>...</td>\n",
       "      <td>...</td>\n",
       "      <td>...</td>\n",
       "      <td>...</td>\n",
       "      <td>...</td>\n",
       "      <td>...</td>\n",
       "      <td>...</td>\n",
       "      <td>...</td>\n",
       "    </tr>\n",
       "    <tr>\n",
       "      <th>21287</th>\n",
       "      <td>Zolpidem Tartrate</td>\n",
       "      <td>22328</td>\n",
       "      <td>Intermezzo</td>\n",
       "      <td>PURDUE PHARMA</td>\n",
       "      <td>NaN</td>\n",
       "      <td>P</td>\n",
       "      <td>11/28/11</td>\n",
       "      <td>7682628</td>\n",
       "      <td>2/16/25</td>\n",
       "      <td>U-1194</td>\n",
       "      <td>001, 002</td>\n",
       "      <td>NaN</td>\n",
       "      <td>Yes</td>\n",
       "      <td>P:UC</td>\n",
       "      <td>NaN</td>\n",
       "      <td>NaN</td>\n",
       "      <td>NaN</td>\n",
       "      <td>NaN</td>\n",
       "      <td>NaN</td>\n",
       "    </tr>\n",
       "    <tr>\n",
       "      <th>21288</th>\n",
       "      <td>Zolpidem Tartrate</td>\n",
       "      <td>22328</td>\n",
       "      <td>Intermezzo</td>\n",
       "      <td>PURDUE PHARMA</td>\n",
       "      <td>NaN</td>\n",
       "      <td>E</td>\n",
       "      <td>11/28/11</td>\n",
       "      <td>NaN</td>\n",
       "      <td>11/23/14</td>\n",
       "      <td>NP</td>\n",
       "      <td>001, 002</td>\n",
       "      <td>NaN</td>\n",
       "      <td>Yes</td>\n",
       "      <td>NP</td>\n",
       "      <td>NaN</td>\n",
       "      <td>NaN</td>\n",
       "      <td>NaN</td>\n",
       "      <td>NaN</td>\n",
       "      <td>NaN</td>\n",
       "    </tr>\n",
       "    <tr>\n",
       "      <th>21289</th>\n",
       "      <td>Zolpidem Tartrate</td>\n",
       "      <td>22328</td>\n",
       "      <td>Intermezzo</td>\n",
       "      <td>PURDUE PHARMA</td>\n",
       "      <td>NaN</td>\n",
       "      <td>P</td>\n",
       "      <td>8/28/12</td>\n",
       "      <td>8242131</td>\n",
       "      <td>8/20/29</td>\n",
       "      <td>U-1266</td>\n",
       "      <td>001, 002</td>\n",
       "      <td>NaN</td>\n",
       "      <td>No</td>\n",
       "      <td>P:UCnew</td>\n",
       "      <td>NaN</td>\n",
       "      <td>NaN</td>\n",
       "      <td>NaN</td>\n",
       "      <td>NaN</td>\n",
       "      <td>NaN</td>\n",
       "    </tr>\n",
       "    <tr>\n",
       "      <th>21290</th>\n",
       "      <td>Zolpidem Tartrate</td>\n",
       "      <td>22328</td>\n",
       "      <td>Intermezzo</td>\n",
       "      <td>PURDUE PHARMA</td>\n",
       "      <td>NaN</td>\n",
       "      <td>P</td>\n",
       "      <td>8/28/12</td>\n",
       "      <td>8252809</td>\n",
       "      <td>2/16/25</td>\n",
       "      <td>DP</td>\n",
       "      <td>001, 002</td>\n",
       "      <td>NaN</td>\n",
       "      <td>No</td>\n",
       "      <td>P:DP</td>\n",
       "      <td>NaN</td>\n",
       "      <td>NaN</td>\n",
       "      <td>NaN</td>\n",
       "      <td>NaN</td>\n",
       "      <td>NaN</td>\n",
       "    </tr>\n",
       "    <tr>\n",
       "      <th>21291</th>\n",
       "      <td>Zonisamide</td>\n",
       "      <td>20789</td>\n",
       "      <td>Zonegran*</td>\n",
       "      <td>SUNOVION PHARMS INC</td>\n",
       "      <td>3/27/00</td>\n",
       "      <td>E</td>\n",
       "      <td>pre-2005</td>\n",
       "      <td>NaN</td>\n",
       "      <td>3/27/05</td>\n",
       "      <td>NCE</td>\n",
       "      <td>001, 002, 003</td>\n",
       "      <td>NaN</td>\n",
       "      <td>NaN</td>\n",
       "      <td>Pre-2005</td>\n",
       "      <td>NaN</td>\n",
       "      <td>NaN</td>\n",
       "      <td>NaN</td>\n",
       "      <td>NaN</td>\n",
       "      <td>NaN</td>\n",
       "    </tr>\n",
       "  </tbody>\n",
       "</table>\n",
       "<p>21292 rows × 19 columns</p>\n",
       "</div>"
      ],
      "text/plain": [
       "       Active Ingredient  NDA # Product Name              Company  \\\n",
       "0       Abacavir Sulfate  20977      Ziagen*        VIIV HLTHCARE   \n",
       "1       Abacavir Sulfate  20977      Ziagen*        VIIV HLTHCARE   \n",
       "2       Abacavir Sulfate  20977      Ziagen*        VIIV HLTHCARE   \n",
       "3       Abacavir Sulfate  20977      Ziagen*        VIIV HLTHCARE   \n",
       "4       Abacavir Sulfate  20977      Ziagen*        VIIV HLTHCARE   \n",
       "...                  ...    ...          ...                  ...   \n",
       "21287  Zolpidem Tartrate  22328   Intermezzo        PURDUE PHARMA   \n",
       "21288  Zolpidem Tartrate  22328   Intermezzo        PURDUE PHARMA   \n",
       "21289  Zolpidem Tartrate  22328   Intermezzo        PURDUE PHARMA   \n",
       "21290  Zolpidem Tartrate  22328   Intermezzo        PURDUE PHARMA   \n",
       "21291         Zonisamide  20789    Zonegran*  SUNOVION PHARMS INC   \n",
       "\n",
       "      Approval Date P or E Date Added Patent Number Expiration Date   Codes  \\\n",
       "0          12/17/98      P   pre-2005       5034394        12/18/11     NaN   \n",
       "1               NaN      P   pre-2005       5089500         6/26/09   U-248   \n",
       "2               NaN      P   pre-2005       6294540         5/14/18    U-65   \n",
       "3               NaN      P   pre-2005   5034394*PED         6/18/12     NaN   \n",
       "4               NaN      P   pre-2005   5089500*PED        12/26/09     NaN   \n",
       "...             ...    ...        ...           ...             ...     ...   \n",
       "21287           NaN      P   11/28/11       7682628         2/16/25  U-1194   \n",
       "21288           NaN      E   11/28/11           NaN        11/23/14      NP   \n",
       "21289           NaN      P    8/28/12       8242131         8/20/29  U-1266   \n",
       "21290           NaN      P    8/28/12       8252809         2/16/25      DP   \n",
       "21291       3/27/00      E   pre-2005           NaN         3/27/05     NCE   \n",
       "\n",
       "           Strengths Delist Request Orig  Analysis Added strength  \\\n",
       "0                  1            NaN  NaN  Pre-2005            NaN   \n",
       "1                  1            NaN  NaN  Pre-2005            NaN   \n",
       "2                  1            NaN  NaN  Pre-2005            NaN   \n",
       "3                  1            NaN  NaN  Pre-2005            NaN   \n",
       "4                  1            NaN  NaN  Pre-2005            NaN   \n",
       "...              ...            ...  ...       ...            ...   \n",
       "21287       001, 002            NaN  Yes      P:UC            NaN   \n",
       "21288       001, 002            NaN  Yes        NP            NaN   \n",
       "21289       001, 002            NaN   No   P:UCnew            NaN   \n",
       "21290       001, 002            NaN   No      P:DP            NaN   \n",
       "21291  001, 002, 003            NaN  NaN  Pre-2005            NaN   \n",
       "\n",
       "       # added strengths Applied to UC 2nd add  Comments  \n",
       "0                    NaN           NaN     NaN  10/26/72  \n",
       "1                    NaN           NaN     NaN       NaN  \n",
       "2                    NaN           NaN     NaN       NaN  \n",
       "3                    NaN           NaN     NaN  12/22/15  \n",
       "4                    NaN           NaN     NaN       NaN  \n",
       "...                  ...           ...     ...       ...  \n",
       "21287                NaN           NaN     NaN       NaN  \n",
       "21288                NaN           NaN     NaN       NaN  \n",
       "21289                NaN           NaN     NaN       NaN  \n",
       "21290                NaN           NaN     NaN       NaN  \n",
       "21291                NaN           NaN     NaN       NaN  \n",
       "\n",
       "[21292 rows x 19 columns]"
      ]
     },
     "execution_count": 13,
     "metadata": {},
     "output_type": "execute_result"
    }
   ],
   "source": [
    "Evgn"
   ]
  },
  {
   "cell_type": "code",
   "execution_count": 14,
   "id": "7ba6a5e1",
   "metadata": {},
   "outputs": [],
   "source": [
    "Evgn['Pre2005Flag'] = [0] *len(Evgn)\n",
    "Evgn.loc[Evgn['Date Added']=='pre-2005','Pre2005Flag']=1\n",
    "Evgn.loc[Evgn['Date Added']=='pre-2005','Date Added']= '1/1/05' "
   ]
  },
  {
   "cell_type": "markdown",
   "id": "39ebcaf0",
   "metadata": {},
   "source": [
    "The dates for \"Date Added\" and \"Expiration Date\" need to be properly formatted. Currently the year is listed as the last two digits. To fix this we can simply add 2000 years to the date and cast it as date time."
   ]
  },
  {
   "cell_type": "code",
   "execution_count": 15,
   "id": "0ed35894",
   "metadata": {},
   "outputs": [],
   "source": [
    "Evgn['AddedMonth'] = Evgn['Date Added'].apply(lambda x: x.split('/')[0])\n",
    "Evgn['AddedDay'] = Evgn['Date Added'].apply(lambda x: x.split('/')[1])\n",
    "Evgn['AddedYear'] = Evgn['Date Added'].apply(lambda x: x.split('/')[2])\n",
    "#This handles a specific outlier that messed things up\n",
    "Evgn.loc[Evgn['AddedYear'].str.len() == 1,'AddedYear'] = '0' + Evgn['AddedYear']\n",
    "Evgn['Date Added'] = pd.to_datetime(Evgn['AddedMonth'] + '/' + \n",
    "                                    Evgn['AddedDay'] + '/20' + Evgn['AddedYear'])\n",
    "Evgn['ExpirationMonth'] = Evgn['Expiration Date'].apply(lambda x: x.split('/')[0])\n",
    "Evgn['ExpirationDay'] = Evgn['Expiration Date'].apply(lambda x: x.split('/')[1])\n",
    "Evgn['ExpirationYear'] = Evgn['Expiration Date'].apply(lambda x: x.split('/')[2])\n",
    "Evgn['Expiration Date'] = pd.to_datetime(Evgn['ExpirationMonth'] + '/' + \n",
    "                                         Evgn['ExpirationDay'] + '/20' + Evgn['ExpirationYear'])\n",
    "Evgn = Evgn.drop(columns=['AddedMonth','AddedDay','AddedYear','ExpirationMonth','ExpirationDay','ExpirationYear'])"
   ]
  },
  {
   "cell_type": "markdown",
   "id": "0f0aa4f8",
   "metadata": {},
   "source": [
    "Now the complicated part will be to do math based on previous information. This will be a slow for loop that will hopefully run not terribly slow."
   ]
  },
  {
   "cell_type": "code",
   "execution_count": 16,
   "id": "694041f0",
   "metadata": {},
   "outputs": [],
   "source": [
    "#Used for index in for loop\n",
    "Evgn['Indexer'] = Evgn.index\n",
    "PreviousPatents = []\n",
    "nextExpiration = []\n",
    "for index in Evgn['Indexer']:\n",
    "    dateAdded = Evgn[Evgn['Indexer']==index]['Date Added']\n",
    "    drugNDA = Evgn[Evgn['Indexer']==index]['NDA #']\n",
    "    subset2 = Evgn[(Evgn['NDA #']==drugNDA.values[0])&\n",
    "                             (Evgn['Date Added']<dateAdded.values[0])]\n",
    "    count_previous = len(subset2)\n",
    "    PreviousPatents.append(count_previous)\n",
    "    \n",
    "    nextExpiration.append(Evgn[(Evgn['NDA #']==drugNDA.values[0])&\n",
    "                             (Evgn['Date Added']<=dateAdded.values[0])][\"Expiration Date\"].max())\n",
    "    "
   ]
  },
  {
   "cell_type": "code",
   "execution_count": 17,
   "id": "431e60bc",
   "metadata": {},
   "outputs": [],
   "source": [
    "Evgn['PreviousPatents'] = PreviousPatents\n",
    "Evgn['LatestExpiration'] = nextExpiration\n",
    "Evgn=Evgn.drop(columns='Indexer')"
   ]
  },
  {
   "cell_type": "markdown",
   "id": "7077f578",
   "metadata": {},
   "source": [
    "## Merging Evergreen Database with Pricing\n",
    "The final step in our dataprep phase is to get one concrete dataset. To accomplish this, the evergreen dataset will be merged with the pricing dataset using an inner join on the \"NDA #\". "
   ]
  },
  {
   "cell_type": "code",
   "execution_count": 18,
   "id": "bae95276",
   "metadata": {},
   "outputs": [],
   "source": [
    "Pricing = Pricing.drop_duplicates()\n",
    "Pricing['Indexer'] = Pricing.index\n",
    "Combined = Pricing.merge(Evgn,how='inner',left_on=\"applicationnumber\",\n",
    "                        right_on=\"NDA #\")"
   ]
  },
  {
   "cell_type": "markdown",
   "id": "e25cf988",
   "metadata": {},
   "source": [
    "Because an NDA can appear multiple times, logic needs to be included such that only the most recent patent is included. This means two things, patents with an addition date later than the pricing should be excluded and only the most recent patent should be included."
   ]
  },
  {
   "cell_type": "code",
   "execution_count": 19,
   "id": "3175fa1c",
   "metadata": {},
   "outputs": [],
   "source": [
    "Combined = Combined[Combined['Date Added'] <= Combined['PriceStartDate']]"
   ]
  },
  {
   "cell_type": "markdown",
   "id": "438fe7a5",
   "metadata": {},
   "source": [
    "The following codeblock retrieves the most recent patent information and subset's to the correct records."
   ]
  },
  {
   "cell_type": "code",
   "execution_count": 20,
   "id": "7cd32861",
   "metadata": {},
   "outputs": [],
   "source": [
    "Combined['Indexer2'] = Combined.index\n",
    "mostRecentAddition = []\n",
    "for index in Combined['Indexer'].unique():\n",
    "    subset = Combined[Combined['Indexer']==index].sort_values(\"Date Added\",ascending=False)\n",
    "    mostRecentAddition.append(list(subset['Indexer2'])[0])\n",
    "Combined=Combined[Combined['Indexer2'].isin(mostRecentAddition)]"
   ]
  },
  {
   "cell_type": "code",
   "execution_count": 21,
   "id": "5129637d",
   "metadata": {},
   "outputs": [
    {
     "name": "stdout",
     "output_type": "stream",
     "text": [
      "<class 'pandas.core.frame.DataFrame'>\n",
      "Int64Index: 6161 entries, 12 to 112616\n",
      "Data columns (total 46 columns):\n",
      " #   Column                  Non-Null Count  Dtype         \n",
      "---  ------                  --------------  -----         \n",
      " 0   ContractNumber          6161 non-null   object        \n",
      " 1   VendorName              6161 non-null   object        \n",
      " 2   ContractStartDate       6161 non-null   object        \n",
      " 3   ContractStopDate        6161 non-null   object        \n",
      " 4   SubItemIdentifier       4693 non-null   object        \n",
      " 5   PackageDescription      6161 non-null   object        \n",
      " 6   Generic                 6161 non-null   object        \n",
      " 7   TradeName               6161 non-null   object        \n",
      " 8   VAClass                 6161 non-null   object        \n",
      " 9   Covered                 6161 non-null   object        \n",
      " 10  PrimeVendor             6161 non-null   object        \n",
      " 11  Price                   6161 non-null   float64       \n",
      " 12  PriceStartDate          6161 non-null   datetime64[ns]\n",
      " 13  PriceStopDate           6161 non-null   object        \n",
      " 14  PriceType               6161 non-null   object        \n",
      " 15  CleanNDC                6161 non-null   object        \n",
      " 16  applicationnumber       6161 non-null   int64         \n",
      " 17  productndc              6161 non-null   object        \n",
      " 18  StartMonth              6161 non-null   int64         \n",
      " 19  StartYear               6161 non-null   int64         \n",
      " 20  CPI                     6161 non-null   float64       \n",
      " 21  InflationAdjustedPrice  6161 non-null   float64       \n",
      " 22  Indexer                 6161 non-null   int64         \n",
      " 23  Active Ingredient       6161 non-null   object        \n",
      " 24  NDA #                   6161 non-null   int64         \n",
      " 25  Product Name            6161 non-null   object        \n",
      " 26  Company                 6161 non-null   object        \n",
      " 27  Approval Date           1356 non-null   object        \n",
      " 28  P or E                  6161 non-null   object        \n",
      " 29  Date Added              6161 non-null   datetime64[ns]\n",
      " 30  Patent Number           4469 non-null   object        \n",
      " 31  Expiration Date         6161 non-null   datetime64[ns]\n",
      " 32  Codes                   4407 non-null   object        \n",
      " 33  Strengths               6156 non-null   object        \n",
      " 34  Delist Request          214 non-null    object        \n",
      " 35  Orig                    4639 non-null   object        \n",
      " 36  Analysis                6096 non-null   object        \n",
      " 37  Added strength          207 non-null    object        \n",
      " 38  # added strengths       0 non-null      float64       \n",
      " 39  Applied to UC           4 non-null      object        \n",
      " 40  2nd add                 0 non-null      object        \n",
      " 41  Comments                4 non-null      object        \n",
      " 42  Pre2005Flag             6161 non-null   int64         \n",
      " 43  PreviousPatents         6161 non-null   int64         \n",
      " 44  LatestExpiration        6161 non-null   datetime64[ns]\n",
      " 45  Indexer2                6161 non-null   int64         \n",
      "dtypes: datetime64[ns](4), float64(4), int64(8), object(30)\n",
      "memory usage: 2.2+ MB\n"
     ]
    }
   ],
   "source": [
    "Combined.info()"
   ]
  },
  {
   "cell_type": "markdown",
   "id": "da83ca36",
   "metadata": {},
   "source": [
    "Finally, we'll grab all the columns that will be used for the analysis."
   ]
  },
  {
   "cell_type": "code",
   "execution_count": 22,
   "id": "00efeb17",
   "metadata": {},
   "outputs": [],
   "source": [
    "Combined = Combined[['Price','PriceStartDate','Date Added',\n",
    "                     'InflationAdjustedPrice','Analysis',\n",
    "                     'P or E','Pre2005Flag','PreviousPatents','LatestExpiration']]\n",
    "Combined = Combined.reset_index().drop(columns='index')"
   ]
  },
  {
   "cell_type": "markdown",
   "id": "d898449d",
   "metadata": {},
   "source": [
    "Now the dataframe will be exported to a csv file for later use."
   ]
  },
  {
   "cell_type": "code",
   "execution_count": 23,
   "id": "c4d6d2d7",
   "metadata": {},
   "outputs": [],
   "source": [
    "Combined.to_csv(\"CleanedData.csv\",index=False)"
   ]
  }
 ],
 "metadata": {
  "kernelspec": {
   "display_name": "Python 3 (ipykernel)",
   "language": "python",
   "name": "python3"
  },
  "language_info": {
   "codemirror_mode": {
    "name": "ipython",
    "version": 3
   },
   "file_extension": ".py",
   "mimetype": "text/x-python",
   "name": "python",
   "nbconvert_exporter": "python",
   "pygments_lexer": "ipython3",
   "version": "3.8.8"
  }
 },
 "nbformat": 4,
 "nbformat_minor": 5
}
