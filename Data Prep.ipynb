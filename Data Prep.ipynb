{
 "cells": [
  {
   "cell_type": "code",
   "execution_count": null,
   "id": "670e4d31",
   "metadata": {},
   "outputs": [],
   "source": [
    "import pandas as pd\n",
    "import numpy as np\n",
    "import matplotlib.pyplot as plt\n",
    "import seaborn as sns"
   ]
  },
  {
   "cell_type": "code",
   "execution_count": 2,
   "id": "e33b0f89",
   "metadata": {},
   "outputs": [],
   "source": [
    "#Dataframe for Evergreen Database\n",
    "Evgn = pd.read_csv(\"EvergreenDatasetRaw_Dataset_2005-2018_v02.csv\")\n",
    "#Dataframe for individual drugs from Orange Book\n",
    "Product = pd.read_csv('products.txt',delimiter=\"~\")\n",
    "#Dataframe for individual patents from Orange Book\n",
    "Patent = pd.read_csv(\"patent.txt\",delimiter=\"~\")\n",
    "#Dataframe for linking NDA (New Drug Application Number) to NDC (National Drug Code)\n",
    "Link = pd.read_csv(\"20220906_product.csv\")\n",
    "#Dataframe for "
   ]
  },
  {
   "cell_type": "code",
   "execution_count": 4,
   "id": "5a63aae6",
   "metadata": {},
   "outputs": [],
   "source": [
    "Patent['EvergreenFlag'] = [0] * len(Patent)\n",
    "Patent.loc[Patent['Patent_No'].isin(Evgn['Patent Number']),'EvergreenFlag'] = 1"
   ]
  },
  {
   "cell_type": "code",
   "execution_count": 5,
   "id": "56f916b7",
   "metadata": {
    "scrolled": true
   },
   "outputs": [
    {
     "name": "stdout",
     "output_type": "stream",
     "text": [
      "17835\n"
     ]
    },
    {
     "data": {
      "text/plain": [
       "1    0.621082\n",
       "0    0.378918\n",
       "Name: EvergreenFlag, dtype: float64"
      ]
     },
     "execution_count": 5,
     "metadata": {},
     "output_type": "execute_result"
    }
   ],
   "source": [
    "print(len(Patent))\n",
    "Patent['EvergreenFlag'].value_counts(normalize=True)"
   ]
  },
  {
   "cell_type": "code",
   "execution_count": null,
   "id": "34f401d3",
   "metadata": {},
   "outputs": [],
   "source": []
  }
 ],
 "metadata": {
  "kernelspec": {
   "display_name": "Python 3 (ipykernel)",
   "language": "python",
   "name": "python3"
  },
  "language_info": {
   "codemirror_mode": {
    "name": "ipython",
    "version": 3
   },
   "file_extension": ".py",
   "mimetype": "text/x-python",
   "name": "python",
   "nbconvert_exporter": "python",
   "pygments_lexer": "ipython3",
   "version": "3.8.8"
  }
 },
 "nbformat": 4,
 "nbformat_minor": 5
}
