{
 "cells": [
  {
   "cell_type": "code",
   "execution_count": 1,
   "id": "1550ec48",
   "metadata": {},
   "outputs": [],
   "source": [
    "import pandas as pd\n",
    "import matplotlib.pyplot as plt\n",
    "import seaborn as sns\n",
    "import numpy as np"
   ]
  },
  {
   "cell_type": "code",
   "execution_count": 2,
   "id": "299346f2",
   "metadata": {},
   "outputs": [],
   "source": [
    "exclusivity = pd.read_csv('exclusivity.txt',delimiter='~')\n",
    "patent = pd.read_csv('patent.txt',delimiter='~')\n",
    "products = pd.read_csv('products.txt',delimiter='~')"
   ]
  },
  {
   "cell_type": "code",
   "execution_count": 3,
   "id": "02a46a2c",
   "metadata": {},
   "outputs": [
    {
     "name": "stdout",
     "output_type": "stream",
     "text": [
      "<class 'pandas.core.frame.DataFrame'>\n",
      "RangeIndex: 2141 entries, 0 to 2140\n",
      "Data columns (total 5 columns):\n",
      " #   Column            Non-Null Count  Dtype \n",
      "---  ------            --------------  ----- \n",
      " 0   Appl_Type         2141 non-null   object\n",
      " 1   Appl_No           2141 non-null   int64 \n",
      " 2   Product_No        2141 non-null   int64 \n",
      " 3   Exclusivity_Code  2141 non-null   object\n",
      " 4   Exclusivity_Date  2141 non-null   object\n",
      "dtypes: int64(2), object(3)\n",
      "memory usage: 83.8+ KB\n"
     ]
    }
   ],
   "source": [
    "exclusivity.info()"
   ]
  },
  {
   "cell_type": "code",
   "execution_count": 4,
   "id": "f2c34cf6",
   "metadata": {},
   "outputs": [
    {
     "name": "stdout",
     "output_type": "stream",
     "text": [
      "<class 'pandas.core.frame.DataFrame'>\n",
      "RangeIndex: 17835 entries, 0 to 17834\n",
      "Data columns (total 10 columns):\n",
      " #   Column                   Non-Null Count  Dtype \n",
      "---  ------                   --------------  ----- \n",
      " 0   Appl_Type                17835 non-null  object\n",
      " 1   Appl_No                  17835 non-null  int64 \n",
      " 2   Product_No               17835 non-null  int64 \n",
      " 3   Patent_No                17835 non-null  object\n",
      " 4   Patent_Expire_Date_Text  17835 non-null  object\n",
      " 5   Drug_Substance_Flag      3080 non-null   object\n",
      " 6   Drug_Product_Flag        8936 non-null   object\n",
      " 7   Patent_Use_Code          10040 non-null  object\n",
      " 8   Delist_Flag              48 non-null     object\n",
      " 9   Submission_Date          14425 non-null  object\n",
      "dtypes: int64(2), object(8)\n",
      "memory usage: 1.4+ MB\n"
     ]
    }
   ],
   "source": [
    "patent.info()"
   ]
  },
  {
   "cell_type": "code",
   "execution_count": 5,
   "id": "c1659013",
   "metadata": {},
   "outputs": [
    {
     "name": "stdout",
     "output_type": "stream",
     "text": [
      "<class 'pandas.core.frame.DataFrame'>\n",
      "RangeIndex: 42400 entries, 0 to 42399\n",
      "Data columns (total 14 columns):\n",
      " #   Column               Non-Null Count  Dtype \n",
      "---  ------               --------------  ----- \n",
      " 0   Ingredient           42400 non-null  object\n",
      " 1   DF;Route             42400 non-null  object\n",
      " 2   Trade_Name           42400 non-null  object\n",
      " 3   Applicant            42400 non-null  object\n",
      " 4   Strength             42342 non-null  object\n",
      " 5   Appl_Type            42400 non-null  object\n",
      " 6   Appl_No              42400 non-null  int64 \n",
      " 7   Product_No           42400 non-null  int64 \n",
      " 8   TE_Code              19247 non-null  object\n",
      " 9   Approval_Date        42400 non-null  object\n",
      " 10  RLD                  42400 non-null  object\n",
      " 11  RS                   42400 non-null  object\n",
      " 12  Type                 42400 non-null  object\n",
      " 13  Applicant_Full_Name  42400 non-null  object\n",
      "dtypes: int64(2), object(12)\n",
      "memory usage: 4.5+ MB\n"
     ]
    }
   ],
   "source": [
    "products.info()"
   ]
  },
  {
   "cell_type": "code",
   "execution_count": null,
   "id": "d37ae7e6",
   "metadata": {},
   "outputs": [],
   "source": []
  }
 ],
 "metadata": {
  "kernelspec": {
   "display_name": "Python 3 (ipykernel)",
   "language": "python",
   "name": "python3"
  },
  "language_info": {
   "codemirror_mode": {
    "name": "ipython",
    "version": 3
   },
   "file_extension": ".py",
   "mimetype": "text/x-python",
   "name": "python",
   "nbconvert_exporter": "python",
   "pygments_lexer": "ipython3",
   "version": "3.8.8"
  }
 },
 "nbformat": 4,
 "nbformat_minor": 5
}
