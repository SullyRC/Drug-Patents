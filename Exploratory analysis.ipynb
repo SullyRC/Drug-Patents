{
 "cells": [
  {
   "cell_type": "code",
   "execution_count": 1,
   "id": "1550ec48",
   "metadata": {},
   "outputs": [],
   "source": [
    "import pandas as pd\n",
    "import matplotlib.pyplot as plt\n",
    "import seaborn as sns\n",
    "import numpy as np"
   ]
  },
  {
   "cell_type": "code",
   "execution_count": 3,
   "id": "0e6f5a90",
   "metadata": {},
   "outputs": [],
   "source": [
    "df = pd.read_csv(\"i-mak-drug-patent-book-database-20220914.csv\")"
   ]
  },
  {
   "cell_type": "code",
   "execution_count": 4,
   "id": "df70317c",
   "metadata": {},
   "outputs": [
    {
     "data": {
      "text/html": [
       "<div>\n",
       "<style scoped>\n",
       "    .dataframe tbody tr th:only-of-type {\n",
       "        vertical-align: middle;\n",
       "    }\n",
       "\n",
       "    .dataframe tbody tr th {\n",
       "        vertical-align: top;\n",
       "    }\n",
       "\n",
       "    .dataframe thead th {\n",
       "        text-align: right;\n",
       "    }\n",
       "</style>\n",
       "<table border=\"1\" class=\"dataframe\">\n",
       "  <thead>\n",
       "    <tr style=\"text-align: right;\">\n",
       "      <th></th>\n",
       "      <th>Drug</th>\n",
       "      <th>Patent/ appln.No.</th>\n",
       "      <th>Assignee</th>\n",
       "      <th>Condition(s) Treated</th>\n",
       "      <th>Drug Type</th>\n",
       "      <th>Family</th>\n",
       "      <th>Priority Date</th>\n",
       "      <th>File Date</th>\n",
       "      <th>Publication/Granted/Re-Issued Date</th>\n",
       "      <th>Expiry Date</th>\n",
       "      <th>Status</th>\n",
       "      <th>Patent Type</th>\n",
       "      <th>Description</th>\n",
       "      <th>Before/After FDA Approval</th>\n",
       "      <th>Orange / Purple Book</th>\n",
       "      <th>Google Patents URL</th>\n",
       "    </tr>\n",
       "  </thead>\n",
       "  <tbody>\n",
       "    <tr>\n",
       "      <th>0</th>\n",
       "      <td>Biktarvy</td>\n",
       "      <td>US6153751A</td>\n",
       "      <td>Emory University</td>\n",
       "      <td>HIV</td>\n",
       "      <td>Small Molecule</td>\n",
       "      <td>1.0</td>\n",
       "      <td>2/1/1990</td>\n",
       "      <td>6/22/1999</td>\n",
       "      <td>11/28/2000</td>\n",
       "      <td>2/1/2010</td>\n",
       "      <td>Expired</td>\n",
       "      <td>Method of Production / Process</td>\n",
       "      <td>The patent claims cover a method of preparing ...</td>\n",
       "      <td>Before</td>\n",
       "      <td>No</td>\n",
       "      <td>https://patents.google.com/patent/US6153751A/e...</td>\n",
       "    </tr>\n",
       "    <tr>\n",
       "      <th>1</th>\n",
       "      <td>Biktarvy</td>\n",
       "      <td>US7402588B2</td>\n",
       "      <td>Emory University</td>\n",
       "      <td>HIV</td>\n",
       "      <td>Small Molecule</td>\n",
       "      <td>6.0</td>\n",
       "      <td>2/1/1990</td>\n",
       "      <td>3/28/2006</td>\n",
       "      <td>7/22/2008</td>\n",
       "      <td>2/1/2010</td>\n",
       "      <td>Expired</td>\n",
       "      <td>Method of Treatment</td>\n",
       "      <td>Thapplication claimed a method for treating HI...</td>\n",
       "      <td>Before</td>\n",
       "      <td>No</td>\n",
       "      <td>https://patents.google.com/patent/US7402588B2/...</td>\n",
       "    </tr>\n",
       "    <tr>\n",
       "      <th>2</th>\n",
       "      <td>Biktarvy</td>\n",
       "      <td>US20050004148A1</td>\n",
       "      <td>Emory University</td>\n",
       "      <td>HIV</td>\n",
       "      <td>Small Molecule</td>\n",
       "      <td>1.0</td>\n",
       "      <td>2/1/1990</td>\n",
       "      <td>11/3/2003</td>\n",
       "      <td>1/6/2005</td>\n",
       "      <td>NaN</td>\n",
       "      <td>Abandoned</td>\n",
       "      <td>Main Compound</td>\n",
       "      <td>The application claimed the compound emtricita...</td>\n",
       "      <td>Before</td>\n",
       "      <td>No</td>\n",
       "      <td>https://patents.google.com/patent/US2005000414...</td>\n",
       "    </tr>\n",
       "    <tr>\n",
       "      <th>3</th>\n",
       "      <td>Biktarvy</td>\n",
       "      <td>US5204466A</td>\n",
       "      <td>Emory University</td>\n",
       "      <td>HIV</td>\n",
       "      <td>Small Molecule</td>\n",
       "      <td>1.0</td>\n",
       "      <td>2/1/1990</td>\n",
       "      <td>2/1/1990</td>\n",
       "      <td>4/20/1993</td>\n",
       "      <td>4/20/2010</td>\n",
       "      <td>Expired</td>\n",
       "      <td>Method of Production / Process</td>\n",
       "      <td>The patent claims cover a process for preparin...</td>\n",
       "      <td>Before</td>\n",
       "      <td>No</td>\n",
       "      <td>https://patents.google.com/patent/US5204466A/e...</td>\n",
       "    </tr>\n",
       "    <tr>\n",
       "      <th>4</th>\n",
       "      <td>Biktarvy</td>\n",
       "      <td>US5210085A</td>\n",
       "      <td>Emory University</td>\n",
       "      <td>HIV</td>\n",
       "      <td>Small Molecule</td>\n",
       "      <td>1.0</td>\n",
       "      <td>2/1/1990</td>\n",
       "      <td>2/22/1991</td>\n",
       "      <td>5/11/1993</td>\n",
       "      <td>5/11/2010</td>\n",
       "      <td>Expired</td>\n",
       "      <td>Method of Treatment</td>\n",
       "      <td>The patent claims cover a method for treating ...</td>\n",
       "      <td>Before</td>\n",
       "      <td>No</td>\n",
       "      <td>https://patents.google.com/patent/US5210085A/e...</td>\n",
       "    </tr>\n",
       "  </tbody>\n",
       "</table>\n",
       "</div>"
      ],
      "text/plain": [
       "       Drug Patent/ appln.No.          Assignee Condition(s) Treated  \\\n",
       "0  Biktarvy        US6153751A  Emory University                  HIV   \n",
       "1  Biktarvy       US7402588B2  Emory University                  HIV   \n",
       "2  Biktarvy   US20050004148A1  Emory University                  HIV   \n",
       "3  Biktarvy        US5204466A  Emory University                  HIV   \n",
       "4  Biktarvy        US5210085A  Emory University                  HIV   \n",
       "\n",
       "        Drug Type  Family Priority Date  File Date  \\\n",
       "0  Small Molecule     1.0      2/1/1990  6/22/1999   \n",
       "1  Small Molecule     6.0      2/1/1990  3/28/2006   \n",
       "2  Small Molecule     1.0      2/1/1990  11/3/2003   \n",
       "3  Small Molecule     1.0      2/1/1990   2/1/1990   \n",
       "4  Small Molecule     1.0      2/1/1990  2/22/1991   \n",
       "\n",
       "  Publication/Granted/Re-Issued Date Expiry Date     Status  \\\n",
       "0                         11/28/2000    2/1/2010    Expired   \n",
       "1                          7/22/2008    2/1/2010    Expired   \n",
       "2                           1/6/2005         NaN  Abandoned   \n",
       "3                          4/20/1993   4/20/2010    Expired   \n",
       "4                          5/11/1993   5/11/2010    Expired   \n",
       "\n",
       "                      Patent Type  \\\n",
       "0  Method of Production / Process   \n",
       "1             Method of Treatment   \n",
       "2                   Main Compound   \n",
       "3  Method of Production / Process   \n",
       "4             Method of Treatment   \n",
       "\n",
       "                                         Description  \\\n",
       "0  The patent claims cover a method of preparing ...   \n",
       "1  Thapplication claimed a method for treating HI...   \n",
       "2  The application claimed the compound emtricita...   \n",
       "3  The patent claims cover a process for preparin...   \n",
       "4  The patent claims cover a method for treating ...   \n",
       "\n",
       "  Before/After FDA Approval Orange / Purple Book  \\\n",
       "0                    Before                   No   \n",
       "1                    Before                   No   \n",
       "2                    Before                   No   \n",
       "3                    Before                   No   \n",
       "4                    Before                   No   \n",
       "\n",
       "                                  Google Patents URL  \n",
       "0  https://patents.google.com/patent/US6153751A/e...  \n",
       "1  https://patents.google.com/patent/US7402588B2/...  \n",
       "2  https://patents.google.com/patent/US2005000414...  \n",
       "3  https://patents.google.com/patent/US5204466A/e...  \n",
       "4  https://patents.google.com/patent/US5210085A/e...  "
      ]
     },
     "execution_count": 4,
     "metadata": {},
     "output_type": "execute_result"
    }
   ],
   "source": [
    "df.head()"
   ]
  },
  {
   "cell_type": "code",
   "execution_count": 5,
   "id": "c453f40b",
   "metadata": {},
   "outputs": [
    {
     "name": "stdout",
     "output_type": "stream",
     "text": [
      "<class 'pandas.core.frame.DataFrame'>\n",
      "RangeIndex: 1429 entries, 0 to 1428\n",
      "Data columns (total 16 columns):\n",
      " #   Column                              Non-Null Count  Dtype  \n",
      "---  ------                              --------------  -----  \n",
      " 0   Drug                                1429 non-null   object \n",
      " 1   Patent/ appln.No.                   1429 non-null   object \n",
      " 2   Assignee                            1429 non-null   object \n",
      " 3   Condition(s) Treated                1429 non-null   object \n",
      " 4   Drug Type                           1429 non-null   object \n",
      " 5   Family                              1428 non-null   float64\n",
      " 6   Priority Date                       1429 non-null   object \n",
      " 7   File Date                           1429 non-null   object \n",
      " 8   Publication/Granted/Re-Issued Date  1429 non-null   object \n",
      " 9   Expiry Date                         742 non-null    object \n",
      " 10  Status                              1429 non-null   object \n",
      " 11  Patent Type                         1429 non-null   object \n",
      " 12  Description                         1429 non-null   object \n",
      " 13  Before/After FDA Approval           1429 non-null   object \n",
      " 14  Orange / Purple Book                1429 non-null   object \n",
      " 15  Google Patents URL                  1429 non-null   object \n",
      "dtypes: float64(1), object(15)\n",
      "memory usage: 178.8+ KB\n"
     ]
    }
   ],
   "source": [
    "df.info()"
   ]
  },
  {
   "cell_type": "code",
   "execution_count": 6,
   "id": "3de48a99",
   "metadata": {},
   "outputs": [
    {
     "data": {
      "text/plain": [
       "0       https://patents.google.com/patent/US6153751A/e...\n",
       "1       https://patents.google.com/patent/US7402588B2/...\n",
       "2       https://patents.google.com/patent/US2005000414...\n",
       "3       https://patents.google.com/patent/US5204466A/e...\n",
       "4       https://patents.google.com/patent/US5210085A/e...\n",
       "                              ...                        \n",
       "1424    https://patents.google.com/patent/US8273854B2/...\n",
       "1425    https://patents.google.com/patent/US8557769B2/...\n",
       "1426    https://patents.google.com/patent/US9161953B2/...\n",
       "1427    https://patents.google.com/patent/US9855318B2/...\n",
       "1428    https://patents.google.com/patent/US9884093B2/...\n",
       "Name: Google Patents URL, Length: 1429, dtype: object"
      ]
     },
     "execution_count": 6,
     "metadata": {},
     "output_type": "execute_result"
    }
   ],
   "source": [
    "df['Google Patents URL']"
   ]
  },
  {
   "cell_type": "code",
   "execution_count": 7,
   "id": "7999067f",
   "metadata": {},
   "outputs": [
    {
     "name": "stdout",
     "output_type": "stream",
     "text": [
      "Collecting google-patent-scraper\n",
      "  Downloading google_patent_scraper-1.0.8-py3-none-any.whl (6.9 kB)\n",
      "Installing collected packages: google-patent-scraper\n",
      "Successfully installed google-patent-scraper-1.0.8\n",
      "Note: you may need to restart the kernel to use updated packages.\n"
     ]
    }
   ],
   "source": [
    "pip install google-patent-scraper"
   ]
  },
  {
   "cell_type": "code",
   "execution_count": 1,
   "id": "5bace34e",
   "metadata": {},
   "outputs": [
    {
     "name": "stdout",
     "output_type": "stream",
     "text": [
      "https://patents.google.com/patent/US7742806\n",
      "\n",
      "     The use of machine learning for pattern recognition in magnetocardiography (MCG) that measures magnetic fields emitted by the electrophysiological activity of the heart is disclosed herein. Direct kernel methods are used to separate abnormal MCG heart patterns from normal ones. For unsupervised learning, Direct Kernel based Self-Organizing Maps are introduced. For supervised learning Direct Kernel Partial Least Squares and (Direct) Kernel Ridge Regression are used. These results are then compared with classical Support Vector Machines and Kernel Partial Least Squares. The hyper-parameters for these methods are tuned on a validation subset of the training data before testing. Also investigated is the most effective pre-processing, using local, vertical, horizontal and two-dimensional (global) Mahanalobis scaling, wavelet transforms, and variable selection by filtering. The results, similar for all three methods, were encouraging, exceeding the quality of classification achieved by the trained experts. Thus, a device and associated method for classifying cardiography data is disclosed, comprising applying a kernel transform to sensed data acquired from sensors sensing electromagnetic heart activity, resulting in transformed data, prior to classifying the transformed data using machine learning. \n",
      "   \n",
      "   \n"
     ]
    }
   ],
   "source": [
    "# ~ Import packages ~ #\n",
    "from google_patent_scraper import scraper_class\n",
    "\n",
    "# ~ Initialize scraper class ~ #\n",
    "scraper=scraper_class(return_abstract=True)  #<- TURN ON ABSTRACT TEXT  \n",
    "\n",
    "# ~~ Scrape patents individually ~~ #\n",
    "patent_1 = 'US7742806'\n",
    "err_1, soup_1, url_1 = scraper.request_single_patent(patent_1)\n",
    "\n",
    "# ~ Parse results of scrape ~ #\n",
    "patent_1_parsed = scraper.get_scraped_data(soup_1,patent_1,url_1)\n",
    "\n",
    "# ~ Print abstract text ~ #\n",
    "print(patent_1_parsed['abstract_text'])"
   ]
  },
  {
   "cell_type": "code",
   "execution_count": null,
   "id": "29d44c8a",
   "metadata": {},
   "outputs": [],
   "source": []
  }
 ],
 "metadata": {
  "kernelspec": {
   "display_name": "Python 3 (ipykernel)",
   "language": "python",
   "name": "python3"
  },
  "language_info": {
   "codemirror_mode": {
    "name": "ipython",
    "version": 3
   },
   "file_extension": ".py",
   "mimetype": "text/x-python",
   "name": "python",
   "nbconvert_exporter": "python",
   "pygments_lexer": "ipython3",
   "version": "3.9.12"
  }
 },
 "nbformat": 4,
 "nbformat_minor": 5
}
