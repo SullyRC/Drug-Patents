{
 "cells": [
  {
   "cell_type": "code",
   "execution_count": 16,
   "id": "65f7b8ab",
   "metadata": {},
   "outputs": [],
   "source": [
    "import pandas as pd\n",
    "import seaborn as sns\n",
    "import matplotlib.pyplot as plt\n",
    "import numpy as np\n",
    "import statsmodels.api as sma"
   ]
  },
  {
   "cell_type": "code",
   "execution_count": 17,
   "id": "4470ba15",
   "metadata": {},
   "outputs": [],
   "source": [
    "df = pd.read_csv(\"CleanedData.csv\")\n",
    "df = df[df[\"Price\"] > 0]"
   ]
  },
  {
   "cell_type": "code",
   "execution_count": 3,
   "id": "c1e7b2a3",
   "metadata": {},
   "outputs": [
    {
     "name": "stdout",
     "output_type": "stream",
     "text": [
      "<class 'pandas.core.frame.DataFrame'>\n",
      "Int64Index: 1643 entries, 0 to 1642\n",
      "Data columns (total 12 columns):\n",
      " #   Column                  Non-Null Count  Dtype  \n",
      "---  ------                  --------------  -----  \n",
      " 0   Company                 1643 non-null   object \n",
      " 1   Price                   1643 non-null   float64\n",
      " 2   PriceStartDate          1643 non-null   object \n",
      " 3   Date Added              1643 non-null   object \n",
      " 4   InflationAdjustedPrice  1643 non-null   float64\n",
      " 5   Analysis                1614 non-null   object \n",
      " 6   P or E                  1643 non-null   object \n",
      " 7   Pre2005Flag             1643 non-null   int64  \n",
      " 8   PreviousPatents         1643 non-null   int64  \n",
      " 9   LatestExpiration        1643 non-null   object \n",
      " 10  MonthsUntilExpiration   1643 non-null   float64\n",
      " 11  PriceDelta              1643 non-null   float64\n",
      "dtypes: float64(4), int64(2), object(6)\n",
      "memory usage: 166.9+ KB\n"
     ]
    }
   ],
   "source": [
    "df.info()"
   ]
  },
  {
   "cell_type": "code",
   "execution_count": 4,
   "id": "f9fdc9bb",
   "metadata": {},
   "outputs": [],
   "source": [
    "mean = df['InflationAdjustedPrice'].mean()\n",
    "std =df['InflationAdjustedPrice'].std()\n",
    "df['InflationAdjustedPriceZScore'] = (df['InflationAdjustedPrice'] - mean)/std\n",
    "df= df[(df['InflationAdjustedPriceZScore'] <=3)&(df['InflationAdjustedPriceZScore'] >=-3)]"
   ]
  },
  {
   "cell_type": "code",
   "execution_count": 5,
   "id": "740310e0",
   "metadata": {},
   "outputs": [
    {
     "data": {
      "text/plain": [
       "P    0.806187\n",
       "E    0.193813\n",
       "Name: P or E, dtype: float64"
      ]
     },
     "execution_count": 5,
     "metadata": {},
     "output_type": "execute_result"
    }
   ],
   "source": [
    "df['P or E'].value_counts(normalize=True)"
   ]
  },
  {
   "cell_type": "markdown",
   "id": "78b22d85",
   "metadata": {},
   "source": [
    "Assigning binary dependent variable from the Analysis variable. The following categories will be classified as suspected evergreen:\n",
    "- P:PED\n",
    "- PTAorPTE\n",
    "- DlistRequest\n",
    "- NPP\n",
    "- PED\n",
    "- P-PEDExtension\n",
    "- UCsamemonth\n",
    "- DP\n",
    "- DS/DP\n",
    "- DS/DP/UCnew\n",
    "- DP/UCnew\n",
    "- DS"
   ]
  },
  {
   "cell_type": "code",
   "execution_count": 6,
   "id": "5b3652f5",
   "metadata": {},
   "outputs": [],
   "source": [
    "df['EvergreenFlag'] = [0] * len(df)\n",
    "df.loc[df['P or E']=='E','EvergreenFlag'] = 1"
   ]
  },
  {
   "cell_type": "code",
   "execution_count": 7,
   "id": "3002af34",
   "metadata": {},
   "outputs": [
    {
     "data": {
      "text/plain": [
       "0    0.806187\n",
       "1    0.193813\n",
       "Name: EvergreenFlag, dtype: float64"
      ]
     },
     "execution_count": 7,
     "metadata": {},
     "output_type": "execute_result"
    }
   ],
   "source": [
    "df['EvergreenFlag'].value_counts(normalize=True)"
   ]
  },
  {
   "cell_type": "code",
   "execution_count": null,
   "id": "a0023cf3",
   "metadata": {},
   "outputs": [],
   "source": []
  },
  {
   "cell_type": "code",
   "execution_count": 8,
   "id": "399b77bd",
   "metadata": {},
   "outputs": [],
   "source": [
    "model_df = df[['InflationAdjustedPrice','MonthsUntilExpiration',\n",
    "              'PreviousPatents','EvergreenFlag','PriceDelta']]\n",
    "#model_df['Initial Filing'] = [0] * len(model_df)\n",
    "#model_df.loc[model_df['PreviousPatents']==0,'Initial Filing'] = 1"
   ]
  },
  {
   "cell_type": "code",
   "execution_count": 9,
   "id": "5b208245",
   "metadata": {},
   "outputs": [
    {
     "name": "stdout",
     "output_type": "stream",
     "text": [
      "<class 'pandas.core.frame.DataFrame'>\n",
      "Int64Index: 1584 entries, 0 to 1642\n",
      "Data columns (total 5 columns):\n",
      " #   Column                  Non-Null Count  Dtype  \n",
      "---  ------                  --------------  -----  \n",
      " 0   InflationAdjustedPrice  1584 non-null   float64\n",
      " 1   MonthsUntilExpiration   1584 non-null   float64\n",
      " 2   PreviousPatents         1584 non-null   int64  \n",
      " 3   EvergreenFlag           1584 non-null   int64  \n",
      " 4   PriceDelta              1584 non-null   float64\n",
      "dtypes: float64(3), int64(2)\n",
      "memory usage: 74.2 KB\n"
     ]
    }
   ],
   "source": [
    "model_df.info()"
   ]
  },
  {
   "cell_type": "code",
   "execution_count": 10,
   "id": "a2de72a2",
   "metadata": {},
   "outputs": [],
   "source": [
    "def ZStandardize(array):\n",
    "    mean = array.mean()\n",
    "    std = array.std()\n",
    "    new_array = (array - mean)/std\n",
    "    return(new_array)"
   ]
  },
  {
   "cell_type": "code",
   "execution_count": 11,
   "id": "f79e1194",
   "metadata": {},
   "outputs": [
    {
     "name": "stderr",
     "output_type": "stream",
     "text": [
      "C:\\Users\\sulli\\AppData\\Local\\Temp\\ipykernel_13104\\770102775.py:2: SettingWithCopyWarning: \n",
      "A value is trying to be set on a copy of a slice from a DataFrame.\n",
      "Try using .loc[row_indexer,col_indexer] = value instead\n",
      "\n",
      "See the caveats in the documentation: https://pandas.pydata.org/pandas-docs/stable/user_guide/indexing.html#returning-a-view-versus-a-copy\n",
      "  model_df[column] = ZStandardize(model_df[column])\n"
     ]
    }
   ],
   "source": [
    "for column in model_df.drop(columns='EvergreenFlag').columns:\n",
    "    model_df[column] = ZStandardize(model_df[column])"
   ]
  },
  {
   "cell_type": "code",
   "execution_count": 12,
   "id": "684cb17f",
   "metadata": {},
   "outputs": [
    {
     "data": {
      "text/html": [
       "<div>\n",
       "<style scoped>\n",
       "    .dataframe tbody tr th:only-of-type {\n",
       "        vertical-align: middle;\n",
       "    }\n",
       "\n",
       "    .dataframe tbody tr th {\n",
       "        vertical-align: top;\n",
       "    }\n",
       "\n",
       "    .dataframe thead th {\n",
       "        text-align: right;\n",
       "    }\n",
       "</style>\n",
       "<table border=\"1\" class=\"dataframe\">\n",
       "  <thead>\n",
       "    <tr style=\"text-align: right;\">\n",
       "      <th></th>\n",
       "      <th>InflationAdjustedPrice</th>\n",
       "      <th>MonthsUntilExpiration</th>\n",
       "      <th>PreviousPatents</th>\n",
       "      <th>EvergreenFlag</th>\n",
       "      <th>PriceDelta</th>\n",
       "    </tr>\n",
       "  </thead>\n",
       "  <tbody>\n",
       "    <tr>\n",
       "      <th>count</th>\n",
       "      <td>1.584000e+03</td>\n",
       "      <td>1.584000e+03</td>\n",
       "      <td>1.584000e+03</td>\n",
       "      <td>1584.000000</td>\n",
       "      <td>1.584000e+03</td>\n",
       "    </tr>\n",
       "    <tr>\n",
       "      <th>mean</th>\n",
       "      <td>3.059491e-15</td>\n",
       "      <td>4.243239e-16</td>\n",
       "      <td>-3.452485e-15</td>\n",
       "      <td>0.193813</td>\n",
       "      <td>5.237113e-16</td>\n",
       "    </tr>\n",
       "    <tr>\n",
       "      <th>std</th>\n",
       "      <td>1.000000e+00</td>\n",
       "      <td>1.000000e+00</td>\n",
       "      <td>1.000000e+00</td>\n",
       "      <td>0.395409</td>\n",
       "      <td>1.000000e+00</td>\n",
       "    </tr>\n",
       "    <tr>\n",
       "      <th>min</th>\n",
       "      <td>-4.903532e-01</td>\n",
       "      <td>-2.899132e+00</td>\n",
       "      <td>-6.724874e-01</td>\n",
       "      <td>0.000000</td>\n",
       "      <td>-3.145871e+00</td>\n",
       "    </tr>\n",
       "    <tr>\n",
       "      <th>25%</th>\n",
       "      <td>-4.566217e-01</td>\n",
       "      <td>-7.671145e-01</td>\n",
       "      <td>-6.724874e-01</td>\n",
       "      <td>0.000000</td>\n",
       "      <td>-1.987420e-01</td>\n",
       "    </tr>\n",
       "    <tr>\n",
       "      <th>50%</th>\n",
       "      <td>-2.895706e-01</td>\n",
       "      <td>2.385543e-01</td>\n",
       "      <td>-4.052805e-01</td>\n",
       "      <td>0.000000</td>\n",
       "      <td>3.845834e-01</td>\n",
       "    </tr>\n",
       "    <tr>\n",
       "      <th>75%</th>\n",
       "      <td>-1.945880e-02</td>\n",
       "      <td>8.218422e-01</td>\n",
       "      <td>3.072710e-01</td>\n",
       "      <td>0.000000</td>\n",
       "      <td>4.445771e-01</td>\n",
       "    </tr>\n",
       "    <tr>\n",
       "      <th>max</th>\n",
       "      <td>5.851313e+00</td>\n",
       "      <td>1.807398e+00</td>\n",
       "      <td>4.627115e+00</td>\n",
       "      <td>1.000000</td>\n",
       "      <td>6.751824e+00</td>\n",
       "    </tr>\n",
       "  </tbody>\n",
       "</table>\n",
       "</div>"
      ],
      "text/plain": [
       "       InflationAdjustedPrice  MonthsUntilExpiration  PreviousPatents  \\\n",
       "count            1.584000e+03           1.584000e+03     1.584000e+03   \n",
       "mean             3.059491e-15           4.243239e-16    -3.452485e-15   \n",
       "std              1.000000e+00           1.000000e+00     1.000000e+00   \n",
       "min             -4.903532e-01          -2.899132e+00    -6.724874e-01   \n",
       "25%             -4.566217e-01          -7.671145e-01    -6.724874e-01   \n",
       "50%             -2.895706e-01           2.385543e-01    -4.052805e-01   \n",
       "75%             -1.945880e-02           8.218422e-01     3.072710e-01   \n",
       "max              5.851313e+00           1.807398e+00     4.627115e+00   \n",
       "\n",
       "       EvergreenFlag    PriceDelta  \n",
       "count    1584.000000  1.584000e+03  \n",
       "mean        0.193813  5.237113e-16  \n",
       "std         0.395409  1.000000e+00  \n",
       "min         0.000000 -3.145871e+00  \n",
       "25%         0.000000 -1.987420e-01  \n",
       "50%         0.000000  3.845834e-01  \n",
       "75%         0.000000  4.445771e-01  \n",
       "max         1.000000  6.751824e+00  "
      ]
     },
     "execution_count": 12,
     "metadata": {},
     "output_type": "execute_result"
    }
   ],
   "source": [
    "model_df.describe()"
   ]
  },
  {
   "cell_type": "code",
   "execution_count": 13,
   "id": "0c74e28a",
   "metadata": {},
   "outputs": [
    {
     "data": {
      "text/plain": [
       "0    0.806187\n",
       "1    0.193813\n",
       "Name: EvergreenFlag, dtype: float64"
      ]
     },
     "execution_count": 13,
     "metadata": {},
     "output_type": "execute_result"
    }
   ],
   "source": [
    "model_df['EvergreenFlag'].value_counts(normalize=True)"
   ]
  },
  {
   "cell_type": "code",
   "execution_count": 14,
   "id": "23be0f52",
   "metadata": {},
   "outputs": [
    {
     "name": "stdout",
     "output_type": "stream",
     "text": [
      "Optimization terminated successfully.\n",
      "         Current function value: 0.474972\n",
      "         Iterations 6\n",
      "                           Logit Regression Results                           \n",
      "==============================================================================\n",
      "Dep. Variable:          EvergreenFlag   No. Observations:                 1584\n",
      "Model:                          Logit   Df Residuals:                     1579\n",
      "Method:                           MLE   Df Model:                            4\n",
      "Date:                Tue, 28 Mar 2023   Pseudo R-squ.:                 0.03403\n",
      "Time:                        11:18:05   Log-Likelihood:                -752.36\n",
      "converged:                       True   LL-Null:                       -778.86\n",
      "Covariance Type:            nonrobust   LLR p-value:                 8.482e-11\n",
      "==========================================================================================\n",
      "                             coef    std err          z      P>|z|      [0.025      0.975]\n",
      "------------------------------------------------------------------------------------------\n",
      "const                     -1.4863      0.067    -22.247      0.000      -1.617      -1.355\n",
      "InflationAdjustedPrice    -0.1112      0.084     -1.316      0.188      -0.277       0.054\n",
      "MonthsUntilExpiration     -0.4149      0.065     -6.403      0.000      -0.542      -0.288\n",
      "PreviousPatents           -0.2856      0.073     -3.898      0.000      -0.429      -0.142\n",
      "PriceDelta                 0.0495      0.062      0.793      0.428      -0.073       0.172\n",
      "==========================================================================================\n"
     ]
    }
   ],
   "source": [
    "model_df = sma.add_constant(model_df)\n",
    "clf = sma.Logit(model_df['EvergreenFlag'],model_df.drop(columns='EvergreenFlag')).fit()\n",
    "print(clf.summary())"
   ]
  }
 ],
 "metadata": {
  "kernelspec": {
   "display_name": "Python 3 (ipykernel)",
   "language": "python",
   "name": "python3"
  },
  "language_info": {
   "codemirror_mode": {
    "name": "ipython",
    "version": 3
   },
   "file_extension": ".py",
   "mimetype": "text/x-python",
   "name": "python",
   "nbconvert_exporter": "python",
   "pygments_lexer": "ipython3",
   "version": "3.9.12"
  }
 },
 "nbformat": 4,
 "nbformat_minor": 5
}
