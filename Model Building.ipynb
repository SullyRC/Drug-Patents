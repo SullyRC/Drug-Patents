{
 "cells": [
  {
   "cell_type": "code",
   "execution_count": 1,
   "id": "65f7b8ab",
   "metadata": {},
   "outputs": [],
   "source": [
    "import pandas as pd\n",
    "import seaborn as sns\n",
    "import matplotlib.pyplot as plt\n",
    "import numpy as np\n",
    "import statsmodels.api as sma"
   ]
  },
  {
   "cell_type": "code",
   "execution_count": 2,
   "id": "4470ba15",
   "metadata": {},
   "outputs": [],
   "source": [
    "df = pd.read_csv(\"CleanedData.csv\")\n",
    "df = df[df[\"Price\"] > 0]\n",
    "df = df[df['Pre2005Flag']!=1]"
   ]
  },
  {
   "cell_type": "code",
   "execution_count": 3,
   "id": "fa6211e4",
   "metadata": {},
   "outputs": [],
   "source": [
    "#df['Pre2005Flag'].value_counts()"
   ]
  },
  {
   "cell_type": "code",
   "execution_count": 4,
   "id": "c1e7b2a3",
   "metadata": {},
   "outputs": [
    {
     "name": "stdout",
     "output_type": "stream",
     "text": [
      "<class 'pandas.core.frame.DataFrame'>\n",
      "Int64Index: 1381 entries, 0 to 1642\n",
      "Data columns (total 13 columns):\n",
      " #   Column                  Non-Null Count  Dtype  \n",
      "---  ------                  --------------  -----  \n",
      " 0   Company                 1381 non-null   object \n",
      " 1   Price                   1381 non-null   float64\n",
      " 2   PriceStartDate          1381 non-null   object \n",
      " 3   Date Added              1381 non-null   object \n",
      " 4   InflationAdjustedPrice  1381 non-null   float64\n",
      " 5   Analysis                1352 non-null   object \n",
      " 6   P or E                  1381 non-null   object \n",
      " 7   Pre2005Flag             1381 non-null   int64  \n",
      " 8   PreviousPatents         1381 non-null   int64  \n",
      " 9   LatestExpiration        1381 non-null   object \n",
      " 10  MonthsUntilExpiration   1381 non-null   float64\n",
      " 11  PriceDelta              1381 non-null   float64\n",
      " 12  PercentageE             1381 non-null   float64\n",
      "dtypes: float64(5), int64(2), object(6)\n",
      "memory usage: 151.0+ KB\n"
     ]
    }
   ],
   "source": [
    "df.info()"
   ]
  },
  {
   "cell_type": "code",
   "execution_count": 5,
   "id": "f9fdc9bb",
   "metadata": {},
   "outputs": [],
   "source": [
    "mean = df['InflationAdjustedPrice'].mean()\n",
    "std =df['InflationAdjustedPrice'].std()\n",
    "df['InflationAdjustedPriceZScore'] = (df['InflationAdjustedPrice'] - mean)/std\n",
    "df= df[(df['InflationAdjustedPriceZScore'] <=3)&(df['InflationAdjustedPriceZScore'] >=-3)]"
   ]
  },
  {
   "cell_type": "code",
   "execution_count": 6,
   "id": "740310e0",
   "metadata": {},
   "outputs": [
    {
     "data": {
      "text/plain": [
       "P    0.814675\n",
       "E    0.185325\n",
       "Name: P or E, dtype: float64"
      ]
     },
     "execution_count": 6,
     "metadata": {},
     "output_type": "execute_result"
    }
   ],
   "source": [
    "df['P or E'].value_counts(normalize=True)"
   ]
  },
  {
   "cell_type": "markdown",
   "id": "78b22d85",
   "metadata": {},
   "source": [
    "Assigning binary dependent variable from the Analysis variable. The following categories will be classified as suspected evergreen:\n",
    "- P:PED\n",
    "- PTAorPTE\n",
    "- DlistRequest\n",
    "- NPP\n",
    "- PED\n",
    "- P-PEDExtension\n",
    "- UCsamemonth\n",
    "- DP\n",
    "- DS/DP\n",
    "- DS/DP/UCnew\n",
    "- DP/UCnew\n",
    "- DS"
   ]
  },
  {
   "cell_type": "code",
   "execution_count": 7,
   "id": "5b3652f5",
   "metadata": {},
   "outputs": [],
   "source": [
    "df['EvergreenFlag'] = [0] * len(df)\n",
    "df.loc[df['P or E']=='E','EvergreenFlag'] = 1"
   ]
  },
  {
   "cell_type": "code",
   "execution_count": 8,
   "id": "3002af34",
   "metadata": {},
   "outputs": [
    {
     "data": {
      "text/plain": [
       "0    0.814675\n",
       "1    0.185325\n",
       "Name: EvergreenFlag, dtype: float64"
      ]
     },
     "execution_count": 8,
     "metadata": {},
     "output_type": "execute_result"
    }
   ],
   "source": [
    "df['EvergreenFlag'].value_counts(normalize=True)"
   ]
  },
  {
   "cell_type": "code",
   "execution_count": null,
   "id": "a0023cf3",
   "metadata": {},
   "outputs": [],
   "source": []
  },
  {
   "cell_type": "code",
   "execution_count": 9,
   "id": "399b77bd",
   "metadata": {},
   "outputs": [],
   "source": [
    "model_df = df[['MonthsUntilExpiration',\n",
    "              'PreviousPatents','EvergreenFlag',\n",
    "              'PercentageE','PriceDelta']]\n",
    "#model_df['Initial Filing'] = [0] * len(model_df)\n",
    "#model_df.loc[model_df['PreviousPatents']==0,'Initial Filing'] = 1"
   ]
  },
  {
   "cell_type": "code",
   "execution_count": 10,
   "id": "5b208245",
   "metadata": {},
   "outputs": [
    {
     "name": "stdout",
     "output_type": "stream",
     "text": [
      "<class 'pandas.core.frame.DataFrame'>\n",
      "Int64Index: 1322 entries, 0 to 1642\n",
      "Data columns (total 5 columns):\n",
      " #   Column                 Non-Null Count  Dtype  \n",
      "---  ------                 --------------  -----  \n",
      " 0   MonthsUntilExpiration  1322 non-null   float64\n",
      " 1   PreviousPatents        1322 non-null   int64  \n",
      " 2   EvergreenFlag          1322 non-null   int64  \n",
      " 3   PercentageE            1322 non-null   float64\n",
      " 4   PriceDelta             1322 non-null   float64\n",
      "dtypes: float64(3), int64(2)\n",
      "memory usage: 62.0 KB\n"
     ]
    }
   ],
   "source": [
    "model_df.info()"
   ]
  },
  {
   "cell_type": "code",
   "execution_count": 11,
   "id": "a2de72a2",
   "metadata": {},
   "outputs": [],
   "source": [
    "def ZStandardize(array):\n",
    "    mean = array.mean()\n",
    "    std = array.std()\n",
    "    new_array = (array - mean)/std\n",
    "    return(new_array)"
   ]
  },
  {
   "cell_type": "code",
   "execution_count": 12,
   "id": "f79e1194",
   "metadata": {},
   "outputs": [
    {
     "name": "stderr",
     "output_type": "stream",
     "text": [
      "C:\\Users\\sulli\\AppData\\Local\\Temp\\ipykernel_17180\\770102775.py:2: SettingWithCopyWarning: \n",
      "A value is trying to be set on a copy of a slice from a DataFrame.\n",
      "Try using .loc[row_indexer,col_indexer] = value instead\n",
      "\n",
      "See the caveats in the documentation: https://pandas.pydata.org/pandas-docs/stable/user_guide/indexing.html#returning-a-view-versus-a-copy\n",
      "  model_df[column] = ZStandardize(model_df[column])\n"
     ]
    }
   ],
   "source": [
    "for column in model_df.drop(columns='EvergreenFlag').columns:\n",
    "    model_df[column] = ZStandardize(model_df[column])"
   ]
  },
  {
   "cell_type": "code",
   "execution_count": 13,
   "id": "684cb17f",
   "metadata": {},
   "outputs": [
    {
     "data": {
      "text/html": [
       "<div>\n",
       "<style scoped>\n",
       "    .dataframe tbody tr th:only-of-type {\n",
       "        vertical-align: middle;\n",
       "    }\n",
       "\n",
       "    .dataframe tbody tr th {\n",
       "        vertical-align: top;\n",
       "    }\n",
       "\n",
       "    .dataframe thead th {\n",
       "        text-align: right;\n",
       "    }\n",
       "</style>\n",
       "<table border=\"1\" class=\"dataframe\">\n",
       "  <thead>\n",
       "    <tr style=\"text-align: right;\">\n",
       "      <th></th>\n",
       "      <th>MonthsUntilExpiration</th>\n",
       "      <th>PreviousPatents</th>\n",
       "      <th>EvergreenFlag</th>\n",
       "      <th>PercentageE</th>\n",
       "      <th>PriceDelta</th>\n",
       "    </tr>\n",
       "  </thead>\n",
       "  <tbody>\n",
       "    <tr>\n",
       "      <th>count</th>\n",
       "      <td>1.322000e+03</td>\n",
       "      <td>1.322000e+03</td>\n",
       "      <td>1322.000000</td>\n",
       "      <td>1.322000e+03</td>\n",
       "      <td>1.322000e+03</td>\n",
       "    </tr>\n",
       "    <tr>\n",
       "      <th>mean</th>\n",
       "      <td>-3.486873e-16</td>\n",
       "      <td>2.343058e-16</td>\n",
       "      <td>0.185325</td>\n",
       "      <td>2.864577e-15</td>\n",
       "      <td>1.943058e-15</td>\n",
       "    </tr>\n",
       "    <tr>\n",
       "      <th>std</th>\n",
       "      <td>1.000000e+00</td>\n",
       "      <td>1.000000e+00</td>\n",
       "      <td>0.388708</td>\n",
       "      <td>1.000000e+00</td>\n",
       "      <td>1.000000e+00</td>\n",
       "    </tr>\n",
       "    <tr>\n",
       "      <th>min</th>\n",
       "      <td>-2.531948e+00</td>\n",
       "      <td>-7.714763e-01</td>\n",
       "      <td>0.000000</td>\n",
       "      <td>-9.315762e-01</td>\n",
       "      <td>-3.187632e+00</td>\n",
       "    </tr>\n",
       "    <tr>\n",
       "      <th>25%</th>\n",
       "      <td>-7.449981e-01</td>\n",
       "      <td>-7.288369e-01</td>\n",
       "      <td>0.000000</td>\n",
       "      <td>-9.315762e-01</td>\n",
       "      <td>9.259197e-02</td>\n",
       "    </tr>\n",
       "    <tr>\n",
       "      <th>50%</th>\n",
       "      <td>1.782595e-01</td>\n",
       "      <td>-3.877217e-01</td>\n",
       "      <td>0.000000</td>\n",
       "      <td>1.155257e-01</td>\n",
       "      <td>3.084138e-01</td>\n",
       "    </tr>\n",
       "    <tr>\n",
       "      <th>75%</th>\n",
       "      <td>9.029670e-01</td>\n",
       "      <td>3.797873e-01</td>\n",
       "      <td>0.000000</td>\n",
       "      <td>5.457801e-01</td>\n",
       "      <td>3.813168e-01</td>\n",
       "    </tr>\n",
       "    <tr>\n",
       "      <th>max</th>\n",
       "      <td>1.816297e+00</td>\n",
       "      <td>4.302612e+00</td>\n",
       "      <td>1.000000</td>\n",
       "      <td>7.139834e+00</td>\n",
       "      <td>7.047727e+00</td>\n",
       "    </tr>\n",
       "  </tbody>\n",
       "</table>\n",
       "</div>"
      ],
      "text/plain": [
       "       MonthsUntilExpiration  PreviousPatents  EvergreenFlag   PercentageE  \\\n",
       "count           1.322000e+03     1.322000e+03    1322.000000  1.322000e+03   \n",
       "mean           -3.486873e-16     2.343058e-16       0.185325  2.864577e-15   \n",
       "std             1.000000e+00     1.000000e+00       0.388708  1.000000e+00   \n",
       "min            -2.531948e+00    -7.714763e-01       0.000000 -9.315762e-01   \n",
       "25%            -7.449981e-01    -7.288369e-01       0.000000 -9.315762e-01   \n",
       "50%             1.782595e-01    -3.877217e-01       0.000000  1.155257e-01   \n",
       "75%             9.029670e-01     3.797873e-01       0.000000  5.457801e-01   \n",
       "max             1.816297e+00     4.302612e+00       1.000000  7.139834e+00   \n",
       "\n",
       "         PriceDelta  \n",
       "count  1.322000e+03  \n",
       "mean   1.943058e-15  \n",
       "std    1.000000e+00  \n",
       "min   -3.187632e+00  \n",
       "25%    9.259197e-02  \n",
       "50%    3.084138e-01  \n",
       "75%    3.813168e-01  \n",
       "max    7.047727e+00  "
      ]
     },
     "execution_count": 13,
     "metadata": {},
     "output_type": "execute_result"
    }
   ],
   "source": [
    "model_df.describe()"
   ]
  },
  {
   "cell_type": "code",
   "execution_count": 14,
   "id": "0c74e28a",
   "metadata": {},
   "outputs": [
    {
     "data": {
      "text/plain": [
       "0    0.814675\n",
       "1    0.185325\n",
       "Name: EvergreenFlag, dtype: float64"
      ]
     },
     "execution_count": 14,
     "metadata": {},
     "output_type": "execute_result"
    }
   ],
   "source": [
    "model_df['EvergreenFlag'].value_counts(normalize=True)"
   ]
  },
  {
   "cell_type": "code",
   "execution_count": 15,
   "id": "23be0f52",
   "metadata": {},
   "outputs": [
    {
     "name": "stdout",
     "output_type": "stream",
     "text": [
      "Optimization terminated successfully.\n",
      "         Current function value: 0.454433\n",
      "         Iterations 6\n",
      "                           Logit Regression Results                           \n",
      "==============================================================================\n",
      "Dep. Variable:          EvergreenFlag   No. Observations:                 1322\n",
      "Model:                          Logit   Df Residuals:                     1317\n",
      "Method:                           MLE   Df Model:                            4\n",
      "Date:                Thu, 06 Apr 2023   Pseudo R-squ.:                 0.05203\n",
      "Time:                        10:00:59   Log-Likelihood:                -600.76\n",
      "converged:                       True   LL-Null:                       -633.73\n",
      "Covariance Type:            nonrobust   LLR p-value:                 1.629e-13\n",
      "=========================================================================================\n",
      "                            coef    std err          z      P>|z|      [0.025      0.975]\n",
      "-----------------------------------------------------------------------------------------\n",
      "const                    -1.5718      0.076    -20.693      0.000      -1.721      -1.423\n",
      "MonthsUntilExpiration    -0.5306      0.074     -7.210      0.000      -0.675      -0.386\n",
      "PreviousPatents          -0.2882      0.079     -3.655      0.000      -0.443      -0.134\n",
      "PercentageE               0.1168      0.066      1.771      0.077      -0.012       0.246\n",
      "PriceDelta               -0.0013      0.069     -0.019      0.985      -0.136       0.133\n",
      "=========================================================================================\n"
     ]
    }
   ],
   "source": [
    "model_df = sma.add_constant(model_df)\n",
    "clf = sma.Logit(model_df['EvergreenFlag'],model_df.drop(columns='EvergreenFlag')).fit()\n",
    "print(clf.summary())"
   ]
  },
  {
   "cell_type": "code",
   "execution_count": 16,
   "id": "c6c53f2e",
   "metadata": {},
   "outputs": [],
   "source": [
    "from sklearn.model_selection import train_test_split"
   ]
  },
  {
   "cell_type": "code",
   "execution_count": 17,
   "id": "d26532c9",
   "metadata": {},
   "outputs": [],
   "source": [
    "from sklearn.linear_model import LogisticRegression\n",
    "from sklearn.tree import DecisionTreeClassifier\n",
    "from sklearn.metrics import accuracy_score, confusion_matrix\n",
    "from sklearn.ensemble import RandomForestClassifier, GradientBoostingClassifier"
   ]
  },
  {
   "cell_type": "code",
   "execution_count": 18,
   "id": "e820a5d6",
   "metadata": {},
   "outputs": [],
   "source": [
    "X_train, X_test, y_train, y_test = train_test_split(model_df.drop(columns='EvergreenFlag'),\n",
    "                                                   model_df['EvergreenFlag'],test_size=.25,\n",
    "                                                   random_state = 1)"
   ]
  },
  {
   "cell_type": "code",
   "execution_count": 19,
   "id": "4ff79084",
   "metadata": {},
   "outputs": [
    {
     "data": {
      "text/plain": [
       "0.18163471241170534"
      ]
     },
     "execution_count": 19,
     "metadata": {},
     "output_type": "execute_result"
    }
   ],
   "source": [
    "y_train.sum()/(len(y_train))"
   ]
  },
  {
   "cell_type": "code",
   "execution_count": 20,
   "id": "04546e41",
   "metadata": {},
   "outputs": [],
   "source": [
    "def make_confusion_matrix(cf,\n",
    "                          group_names=None,\n",
    "                          categories='auto',\n",
    "                          count=True,\n",
    "                          percent=True,\n",
    "                          cbar=True,\n",
    "                          xyticks=True,\n",
    "                          xyplotlabels=True,\n",
    "                          sum_stats=True,\n",
    "                          figsize=None,\n",
    "                          cmap='Blues',\n",
    "                          title=None,\n",
    "                         save=None):\n",
    "    blanks = ['' for i in range(cf.size)]\n",
    "\n",
    "    if group_names and len(group_names)==cf.size:\n",
    "        group_labels = [\"{}\\n\".format(value) for value in group_names]\n",
    "    else:\n",
    "        group_labels = blanks\n",
    "\n",
    "    if count:\n",
    "        group_counts = [\"{0:0.0f}\\n\".format(value) for value in cf.flatten()]\n",
    "    else:\n",
    "        group_counts = blanks\n",
    "\n",
    "    if percent:\n",
    "        group_percentages = [\"{0:.2%}\".format(value) for value in cf.flatten()/np.sum(cf)]\n",
    "    else:\n",
    "        group_percentages = blanks\n",
    "\n",
    "    box_labels = [f\"{v1}{v2}{v3}\".strip() for v1, v2, v3 in zip(group_labels,group_counts,group_percentages)]\n",
    "    box_labels = np.asarray(box_labels).reshape(cf.shape[0],cf.shape[1])\n",
    "\n",
    "\n",
    "    # CODE TO GENERATE SUMMARY STATISTICS & TEXT FOR SUMMARY STATS\n",
    "    if sum_stats:\n",
    "        #Accuracy is sum of diagonal divided by total observations\n",
    "        accuracy  = np.trace(cf) / float(np.sum(cf))\n",
    "\n",
    "        #if it is a binary confusion matrix, show some more stats\n",
    "        if len(cf)==2:\n",
    "            #Metrics for Binary Confusion Matrices\n",
    "            precision = cf[1,1] / sum(cf[:,1])\n",
    "            recall    = cf[1,1] / sum(cf[1,:])\n",
    "            f1_score  = 2*precision*recall / (precision + recall)\n",
    "            stats_text = \"\\n\\nAccuracy={:0.3f}\\nPrecision={:0.3f}\\nRecall={:0.3f}\\nF1 Score={:0.3f}\".format(\n",
    "                accuracy,precision,recall,f1_score)\n",
    "        else:\n",
    "            stats_text = \"\\n\\nAccuracy={:0.3f}\".format(accuracy)\n",
    "    else:\n",
    "        stats_text = \"\"\n",
    "\n",
    "\n",
    "    # SET FIGURE PARAMETERS ACCORDING TO OTHER ARGUMENTS\n",
    "    if figsize==None:\n",
    "        #Get default figure size if not set\n",
    "        figsize = plt.rcParams.get('figure.figsize')\n",
    "\n",
    "    if xyticks==False:\n",
    "        #Do not show categories if xyticks is False\n",
    "        categories=False\n",
    "\n",
    "\n",
    "    # MAKE THE HEATMAP VISUALIZATION\n",
    "    plt.figure(figsize=figsize)\n",
    "    sns.heatmap(cf,annot=box_labels,fmt=\"\",cmap=cmap,cbar=cbar,xticklabels=categories,yticklabels=categories)\n",
    "\n",
    "    if xyplotlabels:\n",
    "        plt.ylabel('True label')\n",
    "        plt.xlabel('Predicted label' + stats_text)\n",
    "    else:\n",
    "        plt.xlabel(stats_text)\n",
    "    \n",
    "    if title:\n",
    "        plt.title(title)\n",
    "    if save:\n",
    "        plt.savefig(save)\n",
    "        plt.show()"
   ]
  },
  {
   "cell_type": "code",
   "execution_count": 21,
   "id": "791e3c58",
   "metadata": {},
   "outputs": [
    {
     "data": {
      "image/png": "[encoded data removed]",
      "text/plain": [
       "<Figure size 1152x648 with 2 Axes>"
      ]
     },
     "metadata": {
      "needs_background": "light"
     },
     "output_type": "display_data"
    }
   ],
   "source": [
    "clf = LogisticRegression().fit(X_train,y_train)\n",
    "predictions = clf.predict(X_test)\n",
    "make_confusion_matrix(confusion_matrix(predictions,y_test),\n",
    "                     figsize=(16,9))"
   ]
  },
  {
   "cell_type": "code",
   "execution_count": 27,
   "id": "952875a9",
   "metadata": {},
   "outputs": [
    {
     "data": {
      "image/png": "[encoded data removed]",
      "text/plain": [
       "<Figure size 648x648 with 1 Axes>"
      ]
     },
     "metadata": {
      "needs_background": "light"
     },
     "output_type": "display_data"
    }
   ],
   "source": [
    "clf = DecisionTreeClassifier().fit(X_train,y_train)\n",
    "predictions = clf.predict(X_test)\n",
    "make_confusion_matrix(confusion_matrix(predictions,y_test),\n",
    "                     figsize=(9,9),\n",
    "                     save='ConfusionMatrix.png',count=False,\n",
    "                     categories=['Not Evergreen','Evergreen'],\n",
    "                     cbar=False)"
   ]
  },
  {
   "cell_type": "code",
   "execution_count": 23,
   "id": "7d36439e",
   "metadata": {},
   "outputs": [
    {
     "data": {
      "image/png": "[encoded data removed]",
      "text/plain": [
       "<Figure size 1152x648 with 2 Axes>"
      ]
     },
     "metadata": {
      "needs_background": "light"
     },
     "output_type": "display_data"
    }
   ],
   "source": [
    "clf = RandomForestClassifier().fit(X_train,y_train)\n",
    "predictions = clf.predict(X_test)\n",
    "make_confusion_matrix(confusion_matrix(predictions,y_test),\n",
    "                     figsize=(16,9))"
   ]
  },
  {
   "cell_type": "code",
   "execution_count": 24,
   "id": "3fd5e059",
   "metadata": {},
   "outputs": [
    {
     "data": {
      "image/png": "[encoded data removed]",
      "text/plain": [
       "<Figure size 1152x648 with 2 Axes>"
      ]
     },
     "metadata": {
      "needs_background": "light"
     },
     "output_type": "display_data"
    }
   ],
   "source": [
    "clf = GradientBoostingClassifier().fit(X_train,y_train)\n",
    "predictions = clf.predict(X_test)\n",
    "make_confusion_matrix(confusion_matrix(predictions,y_test),\n",
    "                     figsize=(16,9))"
   ]
  },
  {
   "cell_type": "code",
   "execution_count": 25,
   "id": "17c94672",
   "metadata": {},
   "outputs": [
    {
     "name": "stdout",
     "output_type": "stream",
     "text": [
      "Optimization terminated successfully.\n",
      "         Current function value: 0.453101\n",
      "         Iterations 6\n",
      "                           Logit Regression Results                           \n",
      "==============================================================================\n",
      "Dep. Variable:          EvergreenFlag   No. Observations:                  991\n",
      "Model:                          Logit   Df Residuals:                      986\n",
      "Method:                           MLE   Df Model:                            4\n",
      "Date:                Thu, 06 Apr 2023   Pseudo R-squ.:                 0.04382\n",
      "Time:                        10:01:00   Log-Likelihood:                -449.02\n",
      "converged:                       True   LL-Null:                       -469.60\n",
      "Covariance Type:            nonrobust   LLR p-value:                 2.501e-08\n",
      "=========================================================================================\n",
      "                            coef    std err          z      P>|z|      [0.025      0.975]\n",
      "-----------------------------------------------------------------------------------------\n",
      "const                    -1.5912      0.088    -18.071      0.000      -1.764      -1.419\n",
      "MonthsUntilExpiration    -0.4459      0.084     -5.296      0.000      -0.611      -0.281\n",
      "PreviousPatents          -0.3220      0.098     -3.300      0.001      -0.513      -0.131\n",
      "PercentageE               0.1231      0.079      1.558      0.119      -0.032       0.278\n",
      "PriceDelta               -0.0618      0.076     -0.817      0.414      -0.210       0.087\n",
      "=========================================================================================\n"
     ]
    }
   ],
   "source": [
    "X_train = sma.add_constant(X_train)\n",
    "X_test = sma.add_constant(X_test)\n",
    "clf = sma.Logit(y_train,X_train).fit()\n",
    "print(clf.summary())"
   ]
  },
  {
   "cell_type": "code",
   "execution_count": null,
   "id": "b84ad260",
   "metadata": {},
   "outputs": [],
   "source": []
  }
 ],
 "metadata": {
  "kernelspec": {
   "display_name": "Python 3 (ipykernel)",
   "language": "python",
   "name": "python3"
  },
  "language_info": {
   "codemirror_mode": {
    "name": "ipython",
    "version": 3
   },
   "file_extension": ".py",
   "mimetype": "text/x-python",
   "name": "python",
   "nbconvert_exporter": "python",
   "pygments_lexer": "ipython3",
   "version": "3.9.12"
  }
 },
 "nbformat": 4,
 "nbformat_minor": 5
}
