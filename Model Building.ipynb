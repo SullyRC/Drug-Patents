{
 "cells": [
  {
   "cell_type": "code",
   "execution_count": 1,
   "id": "b88467c0",
   "metadata": {},
   "outputs": [],
   "source": [
    "import pandas as pd\n",
    "import seaborn as sns\n",
    "import matplotlib.pyplot as plt\n",
    "import numpy as np\n",
    "import statsmodels.api as sma"
   ]
  },
  {
   "cell_type": "code",
   "execution_count": 2,
   "id": "1754d55d",
   "metadata": {},
   "outputs": [],
   "source": [
    "df = pd.read_csv(\"CleanedData.csv\")\n",
    "df = df[df[\"Price\"] > 0]"
   ]
  },
  {
   "cell_type": "code",
   "execution_count": 3,
   "id": "c7636221",
   "metadata": {},
   "outputs": [
    {
     "name": "stdout",
     "output_type": "stream",
     "text": [
      "<class 'pandas.core.frame.DataFrame'>\n",
      "Int64Index: 6013 entries, 0 to 6160\n",
      "Data columns (total 10 columns):\n",
      " #   Column                  Non-Null Count  Dtype  \n",
      "---  ------                  --------------  -----  \n",
      " 0   Price                   6013 non-null   float64\n",
      " 1   PriceStartDate          6013 non-null   object \n",
      " 2   Date Added              6013 non-null   object \n",
      " 3   InflationAdjustedPrice  6013 non-null   float64\n",
      " 4   Analysis                5992 non-null   object \n",
      " 5   P or E                  6013 non-null   object \n",
      " 6   Pre2005Flag             6013 non-null   int64  \n",
      " 7   PreviousPatents         6013 non-null   int64  \n",
      " 8   LatestExpiration        6013 non-null   object \n",
      " 9   MonthsUntilExpiration   6013 non-null   float64\n",
      "dtypes: float64(3), int64(2), object(5)\n",
      "memory usage: 516.7+ KB\n"
     ]
    }
   ],
   "source": [
    "df.info()"
   ]
  },
  {
   "cell_type": "code",
   "execution_count": 4,
   "id": "dcc18926",
   "metadata": {},
   "outputs": [],
   "source": [
    "mean = df['InflationAdjustedPrice'].mean()\n",
    "std =df['InflationAdjustedPrice'].std()\n",
    "df['InflationAdjustedPriceZScore'] = (df['InflationAdjustedPrice'] - mean)/std\n",
    "df= df[(df['InflationAdjustedPriceZScore'] <=3)&(df['InflationAdjustedPriceZScore'] >=-3)]"
   ]
  },
  {
   "cell_type": "code",
   "execution_count": 5,
   "id": "06c0512d",
   "metadata": {},
   "outputs": [
    {
     "data": {
      "text/plain": [
       "P    0.70129\n",
       "E    0.29871\n",
       "Name: P or E, dtype: float64"
      ]
     },
     "execution_count": 5,
     "metadata": {},
     "output_type": "execute_result"
    }
   ],
   "source": [
    "df['P or E'].value_counts(normalize=True)"
   ]
  },
  {
   "cell_type": "markdown",
   "id": "b416dfa7",
   "metadata": {},
   "source": [
    "Assigning binary dependent variable from the Analysis variable. The following categories will be classified as suspected evergreen:\n",
    "- P:PED\n",
    "- PTAorPTE\n",
    "- DlistRequest\n",
    "- NPP\n",
    "- PED\n",
    "- P-PEDExtension\n",
    "- UCsamemonth\n",
    "- DP\n",
    "- DS/DP\n",
    "- DS/DP/UCnew\n",
    "- DP/UCnew\n",
    "- DS"
   ]
  },
  {
   "cell_type": "code",
   "execution_count": 6,
   "id": "6adfbc9c",
   "metadata": {},
   "outputs": [],
   "source": [
    "df['EvergreenFlag'] = [0] * len(df)\n",
    "df.loc[df['P or E']=='E','EvergreenFlag'] = 1"
   ]
  },
  {
   "cell_type": "code",
   "execution_count": 7,
   "id": "bc05a732",
   "metadata": {},
   "outputs": [
    {
     "data": {
      "text/plain": [
       "0    0.70129\n",
       "1    0.29871\n",
       "Name: EvergreenFlag, dtype: float64"
      ]
     },
     "execution_count": 7,
     "metadata": {},
     "output_type": "execute_result"
    }
   ],
   "source": [
    "df['EvergreenFlag'].value_counts(normalize=True)"
   ]
  },
  {
   "cell_type": "code",
   "execution_count": 8,
   "id": "69c7c17a",
   "metadata": {},
   "outputs": [],
   "source": [
    "model_df = df[['InflationAdjustedPrice','MonthsUntilExpiration',\n",
    "              'PreviousPatents','EvergreenFlag']]"
   ]
  },
  {
   "cell_type": "code",
   "execution_count": 9,
   "id": "a9f83f6f",
   "metadata": {},
   "outputs": [
    {
     "name": "stdout",
     "output_type": "stream",
     "text": [
      "<class 'pandas.core.frame.DataFrame'>\n",
      "Int64Index: 5815 entries, 0 to 6160\n",
      "Data columns (total 4 columns):\n",
      " #   Column                  Non-Null Count  Dtype  \n",
      "---  ------                  --------------  -----  \n",
      " 0   InflationAdjustedPrice  5815 non-null   float64\n",
      " 1   MonthsUntilExpiration   5815 non-null   float64\n",
      " 2   PreviousPatents         5815 non-null   int64  \n",
      " 3   EvergreenFlag           5815 non-null   int64  \n",
      "dtypes: float64(2), int64(2)\n",
      "memory usage: 227.1 KB\n"
     ]
    }
   ],
   "source": [
    "model_df.info()"
   ]
  },
  {
   "cell_type": "code",
   "execution_count": 10,
   "id": "61eb5cb7",
   "metadata": {},
   "outputs": [
    {
     "data": {
      "text/html": [
       "<div>\n",
       "<style scoped>\n",
       "    .dataframe tbody tr th:only-of-type {\n",
       "        vertical-align: middle;\n",
       "    }\n",
       "\n",
       "    .dataframe tbody tr th {\n",
       "        vertical-align: top;\n",
       "    }\n",
       "\n",
       "    .dataframe thead th {\n",
       "        text-align: right;\n",
       "    }\n",
       "</style>\n",
       "<table border=\"1\" class=\"dataframe\">\n",
       "  <thead>\n",
       "    <tr style=\"text-align: right;\">\n",
       "      <th></th>\n",
       "      <th>InflationAdjustedPrice</th>\n",
       "      <th>MonthsUntilExpiration</th>\n",
       "      <th>PreviousPatents</th>\n",
       "      <th>EvergreenFlag</th>\n",
       "    </tr>\n",
       "  </thead>\n",
       "  <tbody>\n",
       "    <tr>\n",
       "      <th>count</th>\n",
       "      <td>5815.000000</td>\n",
       "      <td>5815.000000</td>\n",
       "      <td>5815.000000</td>\n",
       "      <td>5815.000000</td>\n",
       "    </tr>\n",
       "    <tr>\n",
       "      <th>mean</th>\n",
       "      <td>296.110427</td>\n",
       "      <td>101.049011</td>\n",
       "      <td>0.783147</td>\n",
       "      <td>0.298710</td>\n",
       "    </tr>\n",
       "    <tr>\n",
       "      <th>std</th>\n",
       "      <td>574.105321</td>\n",
       "      <td>57.753713</td>\n",
       "      <td>8.701916</td>\n",
       "      <td>0.457732</td>\n",
       "    </tr>\n",
       "    <tr>\n",
       "      <th>min</th>\n",
       "      <td>0.003968</td>\n",
       "      <td>-6.000000</td>\n",
       "      <td>0.000000</td>\n",
       "      <td>0.000000</td>\n",
       "    </tr>\n",
       "    <tr>\n",
       "      <th>25%</th>\n",
       "      <td>14.307057</td>\n",
       "      <td>56.000000</td>\n",
       "      <td>0.000000</td>\n",
       "      <td>0.000000</td>\n",
       "    </tr>\n",
       "    <tr>\n",
       "      <th>50%</th>\n",
       "      <td>55.773578</td>\n",
       "      <td>92.000000</td>\n",
       "      <td>0.000000</td>\n",
       "      <td>0.000000</td>\n",
       "    </tr>\n",
       "    <tr>\n",
       "      <th>75%</th>\n",
       "      <td>269.528371</td>\n",
       "      <td>153.000000</td>\n",
       "      <td>0.000000</td>\n",
       "      <td>1.000000</td>\n",
       "    </tr>\n",
       "    <tr>\n",
       "      <th>max</th>\n",
       "      <td>4179.957559</td>\n",
       "      <td>228.000000</td>\n",
       "      <td>119.000000</td>\n",
       "      <td>1.000000</td>\n",
       "    </tr>\n",
       "  </tbody>\n",
       "</table>\n",
       "</div>"
      ],
      "text/plain": [
       "       InflationAdjustedPrice  MonthsUntilExpiration  PreviousPatents  \\\n",
       "count             5815.000000            5815.000000      5815.000000   \n",
       "mean               296.110427             101.049011         0.783147   \n",
       "std                574.105321              57.753713         8.701916   \n",
       "min                  0.003968              -6.000000         0.000000   \n",
       "25%                 14.307057              56.000000         0.000000   \n",
       "50%                 55.773578              92.000000         0.000000   \n",
       "75%                269.528371             153.000000         0.000000   \n",
       "max               4179.957559             228.000000       119.000000   \n",
       "\n",
       "       EvergreenFlag  \n",
       "count    5815.000000  \n",
       "mean        0.298710  \n",
       "std         0.457732  \n",
       "min         0.000000  \n",
       "25%         0.000000  \n",
       "50%         0.000000  \n",
       "75%         1.000000  \n",
       "max         1.000000  "
      ]
     },
     "execution_count": 10,
     "metadata": {},
     "output_type": "execute_result"
    }
   ],
   "source": [
    "model_df.describe()"
   ]
  },
  {
   "cell_type": "code",
   "execution_count": 11,
   "id": "ee252372",
   "metadata": {},
   "outputs": [
    {
     "name": "stdout",
     "output_type": "stream",
     "text": [
      "Warning: Maximum number of iterations has been exceeded.\n",
      "         Current function value: 0.319695\n",
      "         Iterations: 35\n",
      "                           Logit Regression Results                           \n",
      "==============================================================================\n",
      "Dep. Variable:          EvergreenFlag   No. Observations:                 5815\n",
      "Model:                          Logit   Df Residuals:                     5811\n",
      "Method:                           MLE   Df Model:                            3\n",
      "Date:                Wed, 22 Feb 2023   Pseudo R-squ.:                  0.4757\n",
      "Time:                        23:01:26   Log-Likelihood:                -1859.0\n",
      "converged:                      False   LL-Null:                       -3545.8\n",
      "Covariance Type:            nonrobust   LLR p-value:                     0.000\n",
      "==========================================================================================\n",
      "                             coef    std err          z      P>|z|      [0.025      0.975]\n",
      "------------------------------------------------------------------------------------------\n",
      "const                      2.1767      0.088     24.770      0.000       2.004       2.349\n",
      "InflationAdjustedPrice     0.0014   7.83e-05     17.594      0.000       0.001       0.002\n",
      "MonthsUntilExpiration     -0.0470      0.001    -31.969      0.000      -0.050      -0.044\n",
      "PreviousPatents           -1.0872      4.514     -0.241      0.810      -9.935       7.760\n",
      "==========================================================================================\n"
     ]
    },
    {
     "name": "stderr",
     "output_type": "stream",
     "text": [
      "C:\\Users\\sulli\\anaconda3\\lib\\site-packages\\statsmodels\\base\\model.py:604: ConvergenceWarning: Maximum Likelihood optimization failed to converge. Check mle_retvals\n",
      "  warnings.warn(\"Maximum Likelihood optimization failed to \"\n"
     ]
    }
   ],
   "source": [
    "model_df = sma.add_constant(model_df)\n",
    "clf = sma.Logit(model_df['EvergreenFlag'],model_df.drop(columns='EvergreenFlag')).fit()\n",
    "print(clf.summary())"
   ]
  },
  {
   "cell_type": "code",
   "execution_count": null,
   "id": "42496189",
   "metadata": {},
   "outputs": [],
   "source": []
  }
 ],
 "metadata": {
  "kernelspec": {
   "display_name": "Python 3 (ipykernel)",
   "language": "python",
   "name": "python3"
  },
  "language_info": {
   "codemirror_mode": {
    "name": "ipython",
    "version": 3
   },
   "file_extension": ".py",
   "mimetype": "text/x-python",
   "name": "python",
   "nbconvert_exporter": "python",
   "pygments_lexer": "ipython3",
   "version": "3.8.8"
  }
 },
 "nbformat": 4,
 "nbformat_minor": 5
}
