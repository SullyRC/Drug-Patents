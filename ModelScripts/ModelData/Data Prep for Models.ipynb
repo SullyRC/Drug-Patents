{
 "cells": [
  {
   "cell_type": "markdown",
   "id": "ab91f592",
   "metadata": {},
   "source": [
    "# Data Prep for Models\n",
    "This file handles the data prep for modeling including binning, choosing features, and creating dummy variables."
   ]
  },
  {
   "cell_type": "code",
   "execution_count": 1,
   "id": "aeabacc3",
   "metadata": {},
   "outputs": [],
   "source": [
    "import pandas as pd \n",
    "import numpy as np"
   ]
  },
  {
   "cell_type": "code",
   "execution_count": 2,
   "id": "b276d076",
   "metadata": {},
   "outputs": [],
   "source": [
    "df = pd.read_csv('https://raw.githubusercontent.com/SullyRC/Drug-Patents/PriceDelta/CleanedData.csv')"
   ]
  },
  {
   "cell_type": "code",
   "execution_count": 3,
   "id": "4f00e1e1",
   "metadata": {},
   "outputs": [
    {
     "name": "stdout",
     "output_type": "stream",
     "text": [
      "<class 'pandas.core.frame.DataFrame'>\n",
      "RangeIndex: 1215 entries, 0 to 1214\n",
      "Data columns (total 16 columns):\n",
      " #   Column                  Non-Null Count  Dtype  \n",
      "---  ------                  --------------  -----  \n",
      " 0   Company                 1215 non-null   object \n",
      " 1   Price                   1215 non-null   float64\n",
      " 2   PriceStartDate          1215 non-null   object \n",
      " 3   Date Added              1215 non-null   object \n",
      " 4   InflationAdjustedPrice  1215 non-null   float64\n",
      " 5   Analysis                1188 non-null   object \n",
      " 6   P or E                  1215 non-null   object \n",
      " 7   Pre2005Flag             1215 non-null   int64  \n",
      " 8   PreviousPatents         1215 non-null   int64  \n",
      " 9   LatestExpiration        1215 non-null   object \n",
      " 10  MonthsUntilExpiration   1215 non-null   float64\n",
      " 11  PriceDelta              1215 non-null   float64\n",
      " 12  PercentageE             1215 non-null   float64\n",
      " 13  Net_Income              1215 non-null   float64\n",
      " 14  US Company              1215 non-null   float64\n",
      " 15  IncomeUnknown           1215 non-null   float64\n",
      "dtypes: float64(8), int64(2), object(6)\n",
      "memory usage: 152.0+ KB\n"
     ]
    }
   ],
   "source": [
    "df.info()"
   ]
  },
  {
   "cell_type": "markdown",
   "id": "4988fc8e",
   "metadata": {},
   "source": [
    "We'll subset our dataset to not include Pre2005 Patents"
   ]
  },
  {
   "cell_type": "code",
   "execution_count": 4,
   "id": "ac6b375d",
   "metadata": {},
   "outputs": [],
   "source": [
    "df = df[df['Pre2005Flag']!=1]\n",
    "df = df.drop(columns=['Pre2005Flag'])"
   ]
  },
  {
   "cell_type": "markdown",
   "id": "227dd635",
   "metadata": {},
   "source": [
    "We'll also subset where price is greater than 0."
   ]
  },
  {
   "cell_type": "code",
   "execution_count": 5,
   "id": "066dd2bc",
   "metadata": {},
   "outputs": [],
   "source": [
    "df = df[df['InflationAdjustedPrice'] > 0]\n",
    "df = df.drop(columns=['InflationAdjustedPrice'])"
   ]
  },
  {
   "cell_type": "markdown",
   "id": "0d9d1ed8",
   "metadata": {},
   "source": [
    "We'll change P or E to be \"1\" representing an extension and \"0\" representing a patent."
   ]
  },
  {
   "cell_type": "code",
   "execution_count": 6,
   "id": "f50a3ff3",
   "metadata": {},
   "outputs": [],
   "source": [
    "df.loc[df['P or E'] == 'E','EvergreenFlag'] = 1\n",
    "df.loc[df['P or E'] == 'P','EvergreenFlag'] = 0\n",
    "df['P or E'] = pd.to_numeric(df['EvergreenFlag'])"
   ]
  },
  {
   "cell_type": "markdown",
   "id": "0f6df8ce",
   "metadata": {},
   "source": [
    "Next we'll subset the dataframe to the columns we want."
   ]
  },
  {
   "cell_type": "code",
   "execution_count": 7,
   "id": "f6a58208",
   "metadata": {},
   "outputs": [],
   "source": [
    "df = df[['PercentageE','PriceDelta','MonthsUntilExpiration','PreviousPatents',\n",
    "         'Net_Income','US Company','IncomeUnknown','EvergreenFlag']]"
   ]
  },
  {
   "cell_type": "markdown",
   "id": "8dc729b9",
   "metadata": {},
   "source": [
    "Now we'll bin our continuous data."
   ]
  },
  {
   "cell_type": "code",
   "execution_count": 8,
   "id": "d50f880e",
   "metadata": {},
   "outputs": [
    {
     "data": {
      "text/html": [
       "<div>\n",
       "<style scoped>\n",
       "    .dataframe tbody tr th:only-of-type {\n",
       "        vertical-align: middle;\n",
       "    }\n",
       "\n",
       "    .dataframe tbody tr th {\n",
       "        vertical-align: top;\n",
       "    }\n",
       "\n",
       "    .dataframe thead th {\n",
       "        text-align: right;\n",
       "    }\n",
       "</style>\n",
       "<table border=\"1\" class=\"dataframe\">\n",
       "  <thead>\n",
       "    <tr style=\"text-align: right;\">\n",
       "      <th></th>\n",
       "      <th>PercentageE</th>\n",
       "      <th>PriceDelta</th>\n",
       "      <th>MonthsUntilExpiration</th>\n",
       "      <th>PreviousPatents</th>\n",
       "      <th>Net_Income</th>\n",
       "      <th>US Company</th>\n",
       "      <th>IncomeUnknown</th>\n",
       "      <th>EvergreenFlag</th>\n",
       "    </tr>\n",
       "  </thead>\n",
       "  <tbody>\n",
       "    <tr>\n",
       "      <th>count</th>\n",
       "      <td>1215.000000</td>\n",
       "      <td>1215.000000</td>\n",
       "      <td>1215.000000</td>\n",
       "      <td>1215.000000</td>\n",
       "      <td>1.215000e+03</td>\n",
       "      <td>1215.000000</td>\n",
       "      <td>1215.000000</td>\n",
       "      <td>1215.000000</td>\n",
       "    </tr>\n",
       "    <tr>\n",
       "      <th>mean</th>\n",
       "      <td>0.122659</td>\n",
       "      <td>-0.122796</td>\n",
       "      <td>134.435391</td>\n",
       "      <td>19.265021</td>\n",
       "      <td>1.779033e+06</td>\n",
       "      <td>0.899588</td>\n",
       "      <td>0.138272</td>\n",
       "      <td>0.178601</td>\n",
       "    </tr>\n",
       "    <tr>\n",
       "      <th>std</th>\n",
       "      <td>0.123053</td>\n",
       "      <td>0.211262</td>\n",
       "      <td>50.539663</td>\n",
       "      <td>24.103714</td>\n",
       "      <td>8.852137e+06</td>\n",
       "      <td>0.300672</td>\n",
       "      <td>0.345327</td>\n",
       "      <td>0.383175</td>\n",
       "    </tr>\n",
       "    <tr>\n",
       "      <th>min</th>\n",
       "      <td>0.000000</td>\n",
       "      <td>-0.845604</td>\n",
       "      <td>9.000000</td>\n",
       "      <td>0.000000</td>\n",
       "      <td>-1.991692e+06</td>\n",
       "      <td>0.000000</td>\n",
       "      <td>0.000000</td>\n",
       "      <td>0.000000</td>\n",
       "    </tr>\n",
       "    <tr>\n",
       "      <th>25%</th>\n",
       "      <td>0.000000</td>\n",
       "      <td>-0.091060</td>\n",
       "      <td>95.000000</td>\n",
       "      <td>1.000000</td>\n",
       "      <td>2.809388e+03</td>\n",
       "      <td>1.000000</td>\n",
       "      <td>0.000000</td>\n",
       "      <td>0.000000</td>\n",
       "    </tr>\n",
       "    <tr>\n",
       "      <th>50%</th>\n",
       "      <td>0.129730</td>\n",
       "      <td>-0.043701</td>\n",
       "      <td>141.000000</td>\n",
       "      <td>10.000000</td>\n",
       "      <td>1.242350e+04</td>\n",
       "      <td>1.000000</td>\n",
       "      <td>0.000000</td>\n",
       "      <td>0.000000</td>\n",
       "    </tr>\n",
       "    <tr>\n",
       "      <th>75%</th>\n",
       "      <td>0.183036</td>\n",
       "      <td>-0.026729</td>\n",
       "      <td>179.000000</td>\n",
       "      <td>28.000000</td>\n",
       "      <td>5.586666e+04</td>\n",
       "      <td>1.000000</td>\n",
       "      <td>0.000000</td>\n",
       "      <td>0.000000</td>\n",
       "    </tr>\n",
       "    <tr>\n",
       "      <th>max</th>\n",
       "      <td>1.000000</td>\n",
       "      <td>1.502865</td>\n",
       "      <td>228.000000</td>\n",
       "      <td>119.000000</td>\n",
       "      <td>6.159503e+07</td>\n",
       "      <td>1.000000</td>\n",
       "      <td>1.000000</td>\n",
       "      <td>1.000000</td>\n",
       "    </tr>\n",
       "  </tbody>\n",
       "</table>\n",
       "</div>"
      ],
      "text/plain": [
       "       PercentageE   PriceDelta  MonthsUntilExpiration  PreviousPatents  \\\n",
       "count  1215.000000  1215.000000            1215.000000      1215.000000   \n",
       "mean      0.122659    -0.122796             134.435391        19.265021   \n",
       "std       0.123053     0.211262              50.539663        24.103714   \n",
       "min       0.000000    -0.845604               9.000000         0.000000   \n",
       "25%       0.000000    -0.091060              95.000000         1.000000   \n",
       "50%       0.129730    -0.043701             141.000000        10.000000   \n",
       "75%       0.183036    -0.026729             179.000000        28.000000   \n",
       "max       1.000000     1.502865             228.000000       119.000000   \n",
       "\n",
       "         Net_Income   US Company  IncomeUnknown  EvergreenFlag  \n",
       "count  1.215000e+03  1215.000000    1215.000000    1215.000000  \n",
       "mean   1.779033e+06     0.899588       0.138272       0.178601  \n",
       "std    8.852137e+06     0.300672       0.345327       0.383175  \n",
       "min   -1.991692e+06     0.000000       0.000000       0.000000  \n",
       "25%    2.809388e+03     1.000000       0.000000       0.000000  \n",
       "50%    1.242350e+04     1.000000       0.000000       0.000000  \n",
       "75%    5.586666e+04     1.000000       0.000000       0.000000  \n",
       "max    6.159503e+07     1.000000       1.000000       1.000000  "
      ]
     },
     "execution_count": 8,
     "metadata": {},
     "output_type": "execute_result"
    }
   ],
   "source": [
    "df.describe()"
   ]
  },
  {
   "cell_type": "code",
   "execution_count": 9,
   "id": "28473142",
   "metadata": {},
   "outputs": [],
   "source": [
    "def binContinuous(column,start,stepsize,df=df):\n",
    "    binStart = start\n",
    "    while binStart <= df[column].max():\n",
    "        binEnd = binStart+stepsize\n",
    "        binName = column+ str(binStart) +\":\"+ str(binEnd)\n",
    "        df.loc[(df[column]>=binStart)&(df[column]<binEnd),binName] = 1\n",
    "        df.loc[df[binName]!=1,binName]=0\n",
    "        if binEnd == df[column].max():\n",
    "            df.loc[df[column]==binEnd,binName]=1\n",
    "        binStart += stepsize"
   ]
  },
  {
   "cell_type": "code",
   "execution_count": 10,
   "id": "9d79feb9",
   "metadata": {},
   "outputs": [],
   "source": [
    "def ZStandardize(column,df=df):\n",
    "    df[column] = (df[column] - df[column].mean())/(df[column].std())"
   ]
  },
  {
   "cell_type": "code",
   "execution_count": 11,
   "id": "3a7d19de",
   "metadata": {},
   "outputs": [],
   "source": [
    "binContinuous('PercentageE',0,.2)\n",
    "ZStandardize('PercentageE')"
   ]
  },
  {
   "cell_type": "markdown",
   "id": "82f12b5a",
   "metadata": {},
   "source": [
    "To ensure that the function works properly we'll create a check column. This column will just add all of the bins together in order to ensure that there is at least one category for each record."
   ]
  },
  {
   "cell_type": "code",
   "execution_count": 12,
   "id": "4527bdae",
   "metadata": {},
   "outputs": [
    {
     "data": {
      "text/plain": [
       "1.0    1215\n",
       "Name: Check, dtype: int64"
      ]
     },
     "execution_count": 12,
     "metadata": {},
     "output_type": "execute_result"
    }
   ],
   "source": [
    "df['Check'] = df['PercentageE0:0.2']+df['PercentageE0.2:0.4']+ df['PercentageE0.4:0.6000000000000001']+df['PercentageE0.6000000000000001:0.8']+df['PercentageE0.8:1.0']\n",
    "df['Check'].value_counts()"
   ]
  },
  {
   "cell_type": "code",
   "execution_count": 13,
   "id": "ca6f6eb6",
   "metadata": {},
   "outputs": [],
   "source": [
    "df['Net_Income'] = (df['Net_Income'] - df['Net_Income'].mean())/(df['Net_Income'].std())\n",
    "#binContinuous('Net_Income',-1*(10**6),(10**7))"
   ]
  },
  {
   "cell_type": "markdown",
   "id": "4981ae6e",
   "metadata": {},
   "source": [
    "This all appears to work fine, so we'll continue for the rest of the continuous data."
   ]
  },
  {
   "cell_type": "code",
   "execution_count": 14,
   "id": "e3364165",
   "metadata": {},
   "outputs": [],
   "source": [
    "binContinuous('PriceDelta',-1,.2)\n",
    "binContinuous('MonthsUntilExpiration',0,12)\n",
    "binContinuous('PreviousPatents',0,20)"
   ]
  },
  {
   "cell_type": "code",
   "execution_count": 15,
   "id": "885492d6",
   "metadata": {},
   "outputs": [],
   "source": [
    "ZStandardize('PriceDelta')\n",
    "ZStandardize('MonthsUntilExpiration')\n",
    "ZStandardize('PreviousPatents')"
   ]
  },
  {
   "cell_type": "code",
   "execution_count": 16,
   "id": "f90c9f78",
   "metadata": {},
   "outputs": [
    {
     "data": {
      "text/plain": [
       "(1215, 54)"
      ]
     },
     "execution_count": 16,
     "metadata": {},
     "output_type": "execute_result"
    }
   ],
   "source": [
    "df.shape"
   ]
  },
  {
   "cell_type": "code",
   "execution_count": 17,
   "id": "8c7f4eac",
   "metadata": {},
   "outputs": [],
   "source": [
    "binned = df.drop(columns=['PercentageE','PriceDelta','MonthsUntilExpiration','PreviousPatents','Net_Income'])\n",
    "binned.to_csv('mbdata.csv',index=False)"
   ]
  },
  {
   "cell_type": "code",
   "execution_count": 18,
   "id": "d5a30963",
   "metadata": {},
   "outputs": [],
   "source": [
    "standardized = df[['PercentageE','PriceDelta','MonthsUntilExpiration','PreviousPatents','Net_Income',\n",
    "                   'IncomeUnknown','US Company','EvergreenFlag']]\n",
    "standardized.to_csv('msdata.csv',index=False)"
   ]
  }
 ],
 "metadata": {
  "kernelspec": {
   "display_name": "Python 3 (ipykernel)",
   "language": "python",
   "name": "python3"
  },
  "language_info": {
   "codemirror_mode": {
    "name": "ipython",
    "version": 3
   },
   "file_extension": ".py",
   "mimetype": "text/x-python",
   "name": "python",
   "nbconvert_exporter": "python",
   "pygments_lexer": "ipython3",
   "version": "3.8.8"
  }
 },
 "nbformat": 4,
 "nbformat_minor": 5
}
