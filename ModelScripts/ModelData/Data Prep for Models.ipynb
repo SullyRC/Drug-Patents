{
 "cells": [
  {
   "cell_type": "markdown",
   "id": "76cbc4aa",
   "metadata": {},
   "source": [
    "# Data Prep for Models\n",
    "This file handles the data prep for modeling including binning, choosing features, and creating dummy variables."
   ]
  },
  {
   "cell_type": "code",
   "execution_count": 1,
   "id": "89bb2f8b",
   "metadata": {},
   "outputs": [],
   "source": [
    "import pandas as pd \n",
    "import numpy as np"
   ]
  },
  {
   "cell_type": "code",
   "execution_count": 2,
   "id": "885e4560",
   "metadata": {},
   "outputs": [],
   "source": [
    "df = pd.read_csv('https://raw.githubusercontent.com/SullyRC/Drug-Patents/PriceDelta/CleanedData.csv')"
   ]
  },
  {
   "cell_type": "code",
   "execution_count": 3,
   "id": "c9ffa07b",
   "metadata": {},
   "outputs": [
    {
     "name": "stdout",
     "output_type": "stream",
     "text": [
      "<class 'pandas.core.frame.DataFrame'>\n",
      "RangeIndex: 1643 entries, 0 to 1642\n",
      "Data columns (total 13 columns):\n",
      " #   Column                  Non-Null Count  Dtype  \n",
      "---  ------                  --------------  -----  \n",
      " 0   Company                 1643 non-null   object \n",
      " 1   Price                   1643 non-null   float64\n",
      " 2   PriceStartDate          1643 non-null   object \n",
      " 3   Date Added              1643 non-null   object \n",
      " 4   InflationAdjustedPrice  1643 non-null   float64\n",
      " 5   Analysis                1614 non-null   object \n",
      " 6   P or E                  1643 non-null   object \n",
      " 7   Pre2005Flag             1643 non-null   int64  \n",
      " 8   PreviousPatents         1643 non-null   int64  \n",
      " 9   LatestExpiration        1643 non-null   object \n",
      " 10  MonthsUntilExpiration   1643 non-null   float64\n",
      " 11  PriceDelta              1643 non-null   float64\n",
      " 12  PercentageE             1643 non-null   float64\n",
      "dtypes: float64(5), int64(2), object(6)\n",
      "memory usage: 167.0+ KB\n"
     ]
    }
   ],
   "source": [
    "df.info()"
   ]
  },
  {
   "cell_type": "markdown",
   "id": "0dcca2a5",
   "metadata": {},
   "source": [
    "We'll subset our dataset to not include Pre2005 Patents"
   ]
  },
  {
   "cell_type": "code",
   "execution_count": 4,
   "id": "ebb7c53f",
   "metadata": {},
   "outputs": [],
   "source": [
    "df = df[df['Pre2005Flag']!=1]\n",
    "df = df.drop(columns=['Pre2005Flag'])"
   ]
  },
  {
   "cell_type": "markdown",
   "id": "8b7455fe",
   "metadata": {},
   "source": [
    "We'll also subset where price is greater than 0."
   ]
  },
  {
   "cell_type": "code",
   "execution_count": 5,
   "id": "fb775583",
   "metadata": {},
   "outputs": [],
   "source": [
    "df = df[df['InflationAdjustedPrice'] > 0]\n",
    "df = df.drop(columns=['InflationAdjustedPrice'])"
   ]
  },
  {
   "cell_type": "markdown",
   "id": "1a8445d2",
   "metadata": {},
   "source": [
    "We'll change P or E to be \"1\" representing an extension and \"0\" representing a patent."
   ]
  },
  {
   "cell_type": "code",
   "execution_count": 6,
   "id": "e9e67fda",
   "metadata": {},
   "outputs": [],
   "source": [
    "df.loc[df['P or E'] == 'E','EvergreenFlag'] = 1\n",
    "df.loc[df['P or E'] == 'P','EvergreenFlag'] = 0\n",
    "df['P or E'] = pd.to_numeric(df['EvergreenFlag'])"
   ]
  },
  {
   "cell_type": "markdown",
   "id": "643e2c68",
   "metadata": {},
   "source": [
    "Next we'll subset the dataframe to the columns we want."
   ]
  },
  {
   "cell_type": "code",
   "execution_count": 7,
   "id": "609ec114",
   "metadata": {},
   "outputs": [],
   "source": [
    "df = df[['PercentageE','PriceDelta','MonthsUntilExpiration','PreviousPatents','EvergreenFlag']]"
   ]
  },
  {
   "cell_type": "markdown",
   "id": "e2a58e13",
   "metadata": {},
   "source": [
    "Now we'll bin our continuous data."
   ]
  },
  {
   "cell_type": "code",
   "execution_count": 8,
   "id": "2ed2ca3c",
   "metadata": {},
   "outputs": [
    {
     "data": {
      "text/html": [
       "<div>\n",
       "<style scoped>\n",
       "    .dataframe tbody tr th:only-of-type {\n",
       "        vertical-align: middle;\n",
       "    }\n",
       "\n",
       "    .dataframe tbody tr th {\n",
       "        vertical-align: top;\n",
       "    }\n",
       "\n",
       "    .dataframe thead th {\n",
       "        text-align: right;\n",
       "    }\n",
       "</style>\n",
       "<table border=\"1\" class=\"dataframe\">\n",
       "  <thead>\n",
       "    <tr style=\"text-align: right;\">\n",
       "      <th></th>\n",
       "      <th>PercentageE</th>\n",
       "      <th>PriceDelta</th>\n",
       "      <th>MonthsUntilExpiration</th>\n",
       "      <th>PreviousPatents</th>\n",
       "      <th>EvergreenFlag</th>\n",
       "    </tr>\n",
       "  </thead>\n",
       "  <tbody>\n",
       "    <tr>\n",
       "      <th>count</th>\n",
       "      <td>1381.000000</td>\n",
       "      <td>1381.000000</td>\n",
       "      <td>1381.000000</td>\n",
       "      <td>1381.000000</td>\n",
       "      <td>1381.000000</td>\n",
       "    </tr>\n",
       "    <tr>\n",
       "      <th>mean</th>\n",
       "      <td>0.117934</td>\n",
       "      <td>-0.113799</td>\n",
       "      <td>136.984794</td>\n",
       "      <td>17.717596</td>\n",
       "      <td>0.188269</td>\n",
       "    </tr>\n",
       "    <tr>\n",
       "      <th>std</th>\n",
       "      <td>0.122170</td>\n",
       "      <td>0.225417</td>\n",
       "      <td>50.295336</td>\n",
       "      <td>23.069772</td>\n",
       "      <td>0.391069</td>\n",
       "    </tr>\n",
       "    <tr>\n",
       "      <th>min</th>\n",
       "      <td>0.000000</td>\n",
       "      <td>-0.845604</td>\n",
       "      <td>9.000000</td>\n",
       "      <td>0.000000</td>\n",
       "      <td>0.000000</td>\n",
       "    </tr>\n",
       "    <tr>\n",
       "      <th>25%</th>\n",
       "      <td>0.000000</td>\n",
       "      <td>-0.092968</td>\n",
       "      <td>99.000000</td>\n",
       "      <td>1.000000</td>\n",
       "      <td>0.000000</td>\n",
       "    </tr>\n",
       "    <tr>\n",
       "      <th>50%</th>\n",
       "      <td>0.129730</td>\n",
       "      <td>-0.043701</td>\n",
       "      <td>146.000000</td>\n",
       "      <td>9.000000</td>\n",
       "      <td>0.000000</td>\n",
       "    </tr>\n",
       "    <tr>\n",
       "      <th>75%</th>\n",
       "      <td>0.183036</td>\n",
       "      <td>-0.026729</td>\n",
       "      <td>182.000000</td>\n",
       "      <td>25.000000</td>\n",
       "      <td>0.000000</td>\n",
       "    </tr>\n",
       "    <tr>\n",
       "      <th>max</th>\n",
       "      <td>1.000000</td>\n",
       "      <td>1.502865</td>\n",
       "      <td>228.000000</td>\n",
       "      <td>119.000000</td>\n",
       "      <td>1.000000</td>\n",
       "    </tr>\n",
       "  </tbody>\n",
       "</table>\n",
       "</div>"
      ],
      "text/plain": [
       "       PercentageE   PriceDelta  MonthsUntilExpiration  PreviousPatents  \\\n",
       "count  1381.000000  1381.000000            1381.000000      1381.000000   \n",
       "mean      0.117934    -0.113799             136.984794        17.717596   \n",
       "std       0.122170     0.225417              50.295336        23.069772   \n",
       "min       0.000000    -0.845604               9.000000         0.000000   \n",
       "25%       0.000000    -0.092968              99.000000         1.000000   \n",
       "50%       0.129730    -0.043701             146.000000         9.000000   \n",
       "75%       0.183036    -0.026729             182.000000        25.000000   \n",
       "max       1.000000     1.502865             228.000000       119.000000   \n",
       "\n",
       "       EvergreenFlag  \n",
       "count    1381.000000  \n",
       "mean        0.188269  \n",
       "std         0.391069  \n",
       "min         0.000000  \n",
       "25%         0.000000  \n",
       "50%         0.000000  \n",
       "75%         0.000000  \n",
       "max         1.000000  "
      ]
     },
     "execution_count": 8,
     "metadata": {},
     "output_type": "execute_result"
    }
   ],
   "source": [
    "df.describe()"
   ]
  },
  {
   "cell_type": "code",
   "execution_count": 9,
   "id": "79431d0e",
   "metadata": {},
   "outputs": [],
   "source": [
    "def binContinuous(column,start,stepsize,df=df):\n",
    "    binStart = start\n",
    "    while binStart <= df[column].max():\n",
    "        binEnd = binStart+stepsize\n",
    "        binName = column+ str(binStart) +\":\"+ str(binEnd)\n",
    "        df.loc[(df[column]>=binStart)&(df[column]<binEnd),binName] = 1\n",
    "        df.loc[df[binName]!=1,binName]=0\n",
    "        if binEnd == df[column].max():\n",
    "            df.loc[df[column]==binEnd,binName]=1\n",
    "        binStart += stepsize"
   ]
  },
  {
   "cell_type": "code",
   "execution_count": 10,
   "id": "b7f0aff2",
   "metadata": {},
   "outputs": [],
   "source": [
    "binContinuous('PercentageE',0,.2)"
   ]
  },
  {
   "cell_type": "markdown",
   "id": "598f1d74",
   "metadata": {},
   "source": [
    "To ensure that the function works properly we'll create a check column. This column will just add all of the bins together in order to ensure that there is at least one category for each record."
   ]
  },
  {
   "cell_type": "code",
   "execution_count": 11,
   "id": "e75ced15",
   "metadata": {},
   "outputs": [
    {
     "data": {
      "text/plain": [
       "1.0    1381\n",
       "Name: Check, dtype: int64"
      ]
     },
     "execution_count": 11,
     "metadata": {},
     "output_type": "execute_result"
    }
   ],
   "source": [
    "df['Check'] = df['PercentageE0:0.2']+df['PercentageE0.2:0.4']+ df['PercentageE0.4:0.6000000000000001']+df['PercentageE0.6000000000000001:0.8']+df['PercentageE0.8:1.0']\n",
    "df['Check'].value_counts()"
   ]
  },
  {
   "cell_type": "markdown",
   "id": "7cb9c447",
   "metadata": {},
   "source": [
    "This all appears to work fine, so we'll continue for the rest of the continuous data."
   ]
  },
  {
   "cell_type": "code",
   "execution_count": 12,
   "id": "147e2f4f",
   "metadata": {},
   "outputs": [],
   "source": [
    "binContinuous('PriceDelta',-1,.2)\n",
    "binContinuous('MonthsUntilExpiration',0,20)\n",
    "binContinuous('PreviousPatents',0,20)"
   ]
  },
  {
   "cell_type": "code",
   "execution_count": 13,
   "id": "506c0af7",
   "metadata": {},
   "outputs": [
    {
     "data": {
      "text/plain": [
       "(1381, 43)"
      ]
     },
     "execution_count": 13,
     "metadata": {},
     "output_type": "execute_result"
    }
   ],
   "source": [
    "df.shape"
   ]
  },
  {
   "cell_type": "code",
   "execution_count": 14,
   "id": "2bc4ad90",
   "metadata": {},
   "outputs": [],
   "source": [
    "df.to_csv('mbdata.csv',index=False)"
   ]
  }
 ],
 "metadata": {
  "kernelspec": {
   "display_name": "Python 3 (ipykernel)",
   "language": "python",
   "name": "python3"
  },
  "language_info": {
   "codemirror_mode": {
    "name": "ipython",
    "version": 3
   },
   "file_extension": ".py",
   "mimetype": "text/x-python",
   "name": "python",
   "nbconvert_exporter": "python",
   "pygments_lexer": "ipython3",
   "version": "3.9.12"
  }
 },
 "nbformat": 4,
 "nbformat_minor": 5
}
